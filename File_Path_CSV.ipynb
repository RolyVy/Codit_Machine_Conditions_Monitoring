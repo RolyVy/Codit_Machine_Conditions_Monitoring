{
 "cells": [
  {
   "cell_type": "markdown",
   "id": "clinical-source",
   "metadata": {},
   "source": [
    "# File Path CSV\n"
   ]
  },
  {
   "cell_type": "markdown",
   "id": "found-seeker",
   "metadata": {},
   "source": [
    "A jupyter notebook where it will create a CSV for the file path"
   ]
  },
  {
   "cell_type": "markdown",
   "id": "about-kennedy",
   "metadata": {},
   "source": [
    "First, we need to set the file path for the zip file and name it as `zip_file`.\n"
   ]
  },
  {
   "cell_type": "code",
   "execution_count": 12,
   "id": "provincial-heating",
   "metadata": {},
   "outputs": [],
   "source": [
    "zip_file = 'datasets/6_dB_valve.zip'"
   ]
  },
  {
   "cell_type": "markdown",
   "id": "national-investigation",
   "metadata": {},
   "source": [
    "Then we need to import the necessary libraries here:"
   ]
  },
  {
   "cell_type": "code",
   "execution_count": 13,
   "id": "charitable-rhythm",
   "metadata": {},
   "outputs": [],
   "source": [
    "import pandas as pd\n",
    "import numpy as np\n",
    "from io import BytesIO\n",
    "from zipfile import ZipFile\n",
    "import soundfile as sf"
   ]
  },
  {
   "cell_type": "markdown",
   "id": "competent-screw",
   "metadata": {},
   "source": [
    "We create a script where it will get all the `.wav files` inside the zip file using ZipFile and BytesIO and and save it as a list in `file_names`."
   ]
  },
  {
   "cell_type": "code",
   "execution_count": 16,
   "id": "excited-restoration",
   "metadata": {},
   "outputs": [],
   "source": [
    "file_names = []\n",
    "with ZipFile(zip_file, 'r') as zipObj:\n",
    "    listOfiles = zipObj.namelist()\n",
    "    for elem in listOfiles:\n",
    "        if \"wav\" in elem:\n",
    "            file_names.append(elem)"
   ]
  },
  {
   "cell_type": "markdown",
   "id": "existing-startup",
   "metadata": {},
   "source": [
    "Once we have all the file names in a list, we can proceed on creating our dataframe named `df`."
   ]
  },
  {
   "cell_type": "code",
   "execution_count": 29,
   "id": "neutral-emission",
   "metadata": {},
   "outputs": [],
   "source": [
    "df = pd.DataFrame(file_names, columns=[\"File Path\"])"
   ]
  },
  {
   "cell_type": "code",
   "execution_count": 30,
   "id": "weighted-jacksonville",
   "metadata": {},
   "outputs": [
    {
     "data": {
      "text/html": [
       "<div>\n",
       "<style scoped>\n",
       "    .dataframe tbody tr th:only-of-type {\n",
       "        vertical-align: middle;\n",
       "    }\n",
       "\n",
       "    .dataframe tbody tr th {\n",
       "        vertical-align: top;\n",
       "    }\n",
       "\n",
       "    .dataframe thead th {\n",
       "        text-align: right;\n",
       "    }\n",
       "</style>\n",
       "<table border=\"1\" class=\"dataframe\">\n",
       "  <thead>\n",
       "    <tr style=\"text-align: right;\">\n",
       "      <th></th>\n",
       "      <th>File Path</th>\n",
       "    </tr>\n",
       "  </thead>\n",
       "  <tbody>\n",
       "    <tr>\n",
       "      <th>0</th>\n",
       "      <td>valve/id_00/abnormal/00000000.wav</td>\n",
       "    </tr>\n",
       "    <tr>\n",
       "      <th>1</th>\n",
       "      <td>valve/id_00/abnormal/00000001.wav</td>\n",
       "    </tr>\n",
       "    <tr>\n",
       "      <th>2</th>\n",
       "      <td>valve/id_00/abnormal/00000002.wav</td>\n",
       "    </tr>\n",
       "    <tr>\n",
       "      <th>3</th>\n",
       "      <td>valve/id_00/abnormal/00000003.wav</td>\n",
       "    </tr>\n",
       "    <tr>\n",
       "      <th>4</th>\n",
       "      <td>valve/id_00/abnormal/00000004.wav</td>\n",
       "    </tr>\n",
       "    <tr>\n",
       "      <th>...</th>\n",
       "      <td>...</td>\n",
       "    </tr>\n",
       "    <tr>\n",
       "      <th>4165</th>\n",
       "      <td>valve/id_06/normal/00000987.wav</td>\n",
       "    </tr>\n",
       "    <tr>\n",
       "      <th>4166</th>\n",
       "      <td>valve/id_06/normal/00000988.wav</td>\n",
       "    </tr>\n",
       "    <tr>\n",
       "      <th>4167</th>\n",
       "      <td>valve/id_06/normal/00000989.wav</td>\n",
       "    </tr>\n",
       "    <tr>\n",
       "      <th>4168</th>\n",
       "      <td>valve/id_06/normal/00000990.wav</td>\n",
       "    </tr>\n",
       "    <tr>\n",
       "      <th>4169</th>\n",
       "      <td>valve/id_06/normal/00000991.wav</td>\n",
       "    </tr>\n",
       "  </tbody>\n",
       "</table>\n",
       "<p>4170 rows × 1 columns</p>\n",
       "</div>"
      ],
      "text/plain": [
       "                              File Path\n",
       "0     valve/id_00/abnormal/00000000.wav\n",
       "1     valve/id_00/abnormal/00000001.wav\n",
       "2     valve/id_00/abnormal/00000002.wav\n",
       "3     valve/id_00/abnormal/00000003.wav\n",
       "4     valve/id_00/abnormal/00000004.wav\n",
       "...                                 ...\n",
       "4165    valve/id_06/normal/00000987.wav\n",
       "4166    valve/id_06/normal/00000988.wav\n",
       "4167    valve/id_06/normal/00000989.wav\n",
       "4168    valve/id_06/normal/00000990.wav\n",
       "4169    valve/id_06/normal/00000991.wav\n",
       "\n",
       "[4170 rows x 1 columns]"
      ]
     },
     "execution_count": 30,
     "metadata": {},
     "output_type": "execute_result"
    }
   ],
   "source": [
    "df"
   ]
  },
  {
   "cell_type": "markdown",
   "id": "applied-origin",
   "metadata": {},
   "source": [
    "If for example your file is not on the same folder as the file path, you have to update the file path to the folder where it is saved. So here in my case updating the file path with the folder where the file is located, all my datafiles are located inside the folder `datasets`, and this particular file is inside the `6_db_valve`. I used lambda to add the `datasets/6_dB_valve/` to the file path."
   ]
  },
  {
   "cell_type": "code",
   "execution_count": 31,
   "id": "continental-artwork",
   "metadata": {},
   "outputs": [],
   "source": [
    "df['File Path'] = df['File Path'].apply(lambda x: zip_file.split(\".\")[0] + \"/\" + x) "
   ]
  },
  {
   "cell_type": "code",
   "execution_count": 32,
   "id": "norman-superior",
   "metadata": {},
   "outputs": [
    {
     "data": {
      "text/html": [
       "<div>\n",
       "<style scoped>\n",
       "    .dataframe tbody tr th:only-of-type {\n",
       "        vertical-align: middle;\n",
       "    }\n",
       "\n",
       "    .dataframe tbody tr th {\n",
       "        vertical-align: top;\n",
       "    }\n",
       "\n",
       "    .dataframe thead th {\n",
       "        text-align: right;\n",
       "    }\n",
       "</style>\n",
       "<table border=\"1\" class=\"dataframe\">\n",
       "  <thead>\n",
       "    <tr style=\"text-align: right;\">\n",
       "      <th></th>\n",
       "      <th>File Path</th>\n",
       "    </tr>\n",
       "  </thead>\n",
       "  <tbody>\n",
       "    <tr>\n",
       "      <th>0</th>\n",
       "      <td>datasets/6_dB_valve/valve/id_00/abnormal/00000...</td>\n",
       "    </tr>\n",
       "    <tr>\n",
       "      <th>1</th>\n",
       "      <td>datasets/6_dB_valve/valve/id_00/abnormal/00000...</td>\n",
       "    </tr>\n",
       "    <tr>\n",
       "      <th>2</th>\n",
       "      <td>datasets/6_dB_valve/valve/id_00/abnormal/00000...</td>\n",
       "    </tr>\n",
       "    <tr>\n",
       "      <th>3</th>\n",
       "      <td>datasets/6_dB_valve/valve/id_00/abnormal/00000...</td>\n",
       "    </tr>\n",
       "    <tr>\n",
       "      <th>4</th>\n",
       "      <td>datasets/6_dB_valve/valve/id_00/abnormal/00000...</td>\n",
       "    </tr>\n",
       "    <tr>\n",
       "      <th>...</th>\n",
       "      <td>...</td>\n",
       "    </tr>\n",
       "    <tr>\n",
       "      <th>4165</th>\n",
       "      <td>datasets/6_dB_valve/valve/id_06/normal/0000098...</td>\n",
       "    </tr>\n",
       "    <tr>\n",
       "      <th>4166</th>\n",
       "      <td>datasets/6_dB_valve/valve/id_06/normal/0000098...</td>\n",
       "    </tr>\n",
       "    <tr>\n",
       "      <th>4167</th>\n",
       "      <td>datasets/6_dB_valve/valve/id_06/normal/0000098...</td>\n",
       "    </tr>\n",
       "    <tr>\n",
       "      <th>4168</th>\n",
       "      <td>datasets/6_dB_valve/valve/id_06/normal/0000099...</td>\n",
       "    </tr>\n",
       "    <tr>\n",
       "      <th>4169</th>\n",
       "      <td>datasets/6_dB_valve/valve/id_06/normal/0000099...</td>\n",
       "    </tr>\n",
       "  </tbody>\n",
       "</table>\n",
       "<p>4170 rows × 1 columns</p>\n",
       "</div>"
      ],
      "text/plain": [
       "                                              File Path\n",
       "0     datasets/6_dB_valve/valve/id_00/abnormal/00000...\n",
       "1     datasets/6_dB_valve/valve/id_00/abnormal/00000...\n",
       "2     datasets/6_dB_valve/valve/id_00/abnormal/00000...\n",
       "3     datasets/6_dB_valve/valve/id_00/abnormal/00000...\n",
       "4     datasets/6_dB_valve/valve/id_00/abnormal/00000...\n",
       "...                                                 ...\n",
       "4165  datasets/6_dB_valve/valve/id_06/normal/0000098...\n",
       "4166  datasets/6_dB_valve/valve/id_06/normal/0000098...\n",
       "4167  datasets/6_dB_valve/valve/id_06/normal/0000098...\n",
       "4168  datasets/6_dB_valve/valve/id_06/normal/0000099...\n",
       "4169  datasets/6_dB_valve/valve/id_06/normal/0000099...\n",
       "\n",
       "[4170 rows x 1 columns]"
      ]
     },
     "execution_count": 32,
     "metadata": {},
     "output_type": "execute_result"
    }
   ],
   "source": [
    "df"
   ]
  },
  {
   "cell_type": "markdown",
   "id": "married-potter",
   "metadata": {},
   "source": [
    "Then we can create other additional columns."
   ]
  },
  {
   "cell_type": "code",
   "execution_count": 34,
   "id": "tired-policy",
   "metadata": {},
   "outputs": [
    {
     "data": {
      "text/plain": [
       "['datasets', '6_dB_valve', 'valve', 'id_00', 'abnormal', '00000000.wav']"
      ]
     },
     "execution_count": 34,
     "metadata": {},
     "output_type": "execute_result"
    }
   ],
   "source": [
    "df['File Path'][0].split(\"/\")"
   ]
  },
  {
   "cell_type": "code",
   "execution_count": 35,
   "id": "annual-zealand",
   "metadata": {},
   "outputs": [],
   "source": [
    "df['Type of SNR'] = df['File Path'].apply(lambda x: x.split(\"/\")[1])\n",
    "df['Type of Machine'] = df['File Path'].apply(lambda x: x.split(\"/\")[2])\n",
    "df['Model Number'] = df['File Path'].apply(lambda x: x.split(\"/\")[3])\n",
    "df['Status'] = df['File Path'].apply(lambda x: x.split(\"/\")[4])\n",
    "df['File Name'] = df['File Path'].apply(lambda x: x.split(\"/\")[5])"
   ]
  },
  {
   "cell_type": "code",
   "execution_count": 36,
   "id": "intellectual-textbook",
   "metadata": {},
   "outputs": [
    {
     "data": {
      "text/html": [
       "<div>\n",
       "<style scoped>\n",
       "    .dataframe tbody tr th:only-of-type {\n",
       "        vertical-align: middle;\n",
       "    }\n",
       "\n",
       "    .dataframe tbody tr th {\n",
       "        vertical-align: top;\n",
       "    }\n",
       "\n",
       "    .dataframe thead th {\n",
       "        text-align: right;\n",
       "    }\n",
       "</style>\n",
       "<table border=\"1\" class=\"dataframe\">\n",
       "  <thead>\n",
       "    <tr style=\"text-align: right;\">\n",
       "      <th></th>\n",
       "      <th>File Path</th>\n",
       "      <th>Type of SNR</th>\n",
       "      <th>Type of Machine</th>\n",
       "      <th>Model Number</th>\n",
       "      <th>Status</th>\n",
       "      <th>File Name</th>\n",
       "    </tr>\n",
       "  </thead>\n",
       "  <tbody>\n",
       "    <tr>\n",
       "      <th>0</th>\n",
       "      <td>datasets/6_dB_valve/valve/id_00/abnormal/00000...</td>\n",
       "      <td>6_dB_valve</td>\n",
       "      <td>valve</td>\n",
       "      <td>id_00</td>\n",
       "      <td>abnormal</td>\n",
       "      <td>00000000.wav</td>\n",
       "    </tr>\n",
       "    <tr>\n",
       "      <th>1</th>\n",
       "      <td>datasets/6_dB_valve/valve/id_00/abnormal/00000...</td>\n",
       "      <td>6_dB_valve</td>\n",
       "      <td>valve</td>\n",
       "      <td>id_00</td>\n",
       "      <td>abnormal</td>\n",
       "      <td>00000001.wav</td>\n",
       "    </tr>\n",
       "    <tr>\n",
       "      <th>2</th>\n",
       "      <td>datasets/6_dB_valve/valve/id_00/abnormal/00000...</td>\n",
       "      <td>6_dB_valve</td>\n",
       "      <td>valve</td>\n",
       "      <td>id_00</td>\n",
       "      <td>abnormal</td>\n",
       "      <td>00000002.wav</td>\n",
       "    </tr>\n",
       "    <tr>\n",
       "      <th>3</th>\n",
       "      <td>datasets/6_dB_valve/valve/id_00/abnormal/00000...</td>\n",
       "      <td>6_dB_valve</td>\n",
       "      <td>valve</td>\n",
       "      <td>id_00</td>\n",
       "      <td>abnormal</td>\n",
       "      <td>00000003.wav</td>\n",
       "    </tr>\n",
       "    <tr>\n",
       "      <th>4</th>\n",
       "      <td>datasets/6_dB_valve/valve/id_00/abnormal/00000...</td>\n",
       "      <td>6_dB_valve</td>\n",
       "      <td>valve</td>\n",
       "      <td>id_00</td>\n",
       "      <td>abnormal</td>\n",
       "      <td>00000004.wav</td>\n",
       "    </tr>\n",
       "    <tr>\n",
       "      <th>...</th>\n",
       "      <td>...</td>\n",
       "      <td>...</td>\n",
       "      <td>...</td>\n",
       "      <td>...</td>\n",
       "      <td>...</td>\n",
       "      <td>...</td>\n",
       "    </tr>\n",
       "    <tr>\n",
       "      <th>4165</th>\n",
       "      <td>datasets/6_dB_valve/valve/id_06/normal/0000098...</td>\n",
       "      <td>6_dB_valve</td>\n",
       "      <td>valve</td>\n",
       "      <td>id_06</td>\n",
       "      <td>normal</td>\n",
       "      <td>00000987.wav</td>\n",
       "    </tr>\n",
       "    <tr>\n",
       "      <th>4166</th>\n",
       "      <td>datasets/6_dB_valve/valve/id_06/normal/0000098...</td>\n",
       "      <td>6_dB_valve</td>\n",
       "      <td>valve</td>\n",
       "      <td>id_06</td>\n",
       "      <td>normal</td>\n",
       "      <td>00000988.wav</td>\n",
       "    </tr>\n",
       "    <tr>\n",
       "      <th>4167</th>\n",
       "      <td>datasets/6_dB_valve/valve/id_06/normal/0000098...</td>\n",
       "      <td>6_dB_valve</td>\n",
       "      <td>valve</td>\n",
       "      <td>id_06</td>\n",
       "      <td>normal</td>\n",
       "      <td>00000989.wav</td>\n",
       "    </tr>\n",
       "    <tr>\n",
       "      <th>4168</th>\n",
       "      <td>datasets/6_dB_valve/valve/id_06/normal/0000099...</td>\n",
       "      <td>6_dB_valve</td>\n",
       "      <td>valve</td>\n",
       "      <td>id_06</td>\n",
       "      <td>normal</td>\n",
       "      <td>00000990.wav</td>\n",
       "    </tr>\n",
       "    <tr>\n",
       "      <th>4169</th>\n",
       "      <td>datasets/6_dB_valve/valve/id_06/normal/0000099...</td>\n",
       "      <td>6_dB_valve</td>\n",
       "      <td>valve</td>\n",
       "      <td>id_06</td>\n",
       "      <td>normal</td>\n",
       "      <td>00000991.wav</td>\n",
       "    </tr>\n",
       "  </tbody>\n",
       "</table>\n",
       "<p>4170 rows × 6 columns</p>\n",
       "</div>"
      ],
      "text/plain": [
       "                                              File Path Type of SNR  \\\n",
       "0     datasets/6_dB_valve/valve/id_00/abnormal/00000...  6_dB_valve   \n",
       "1     datasets/6_dB_valve/valve/id_00/abnormal/00000...  6_dB_valve   \n",
       "2     datasets/6_dB_valve/valve/id_00/abnormal/00000...  6_dB_valve   \n",
       "3     datasets/6_dB_valve/valve/id_00/abnormal/00000...  6_dB_valve   \n",
       "4     datasets/6_dB_valve/valve/id_00/abnormal/00000...  6_dB_valve   \n",
       "...                                                 ...         ...   \n",
       "4165  datasets/6_dB_valve/valve/id_06/normal/0000098...  6_dB_valve   \n",
       "4166  datasets/6_dB_valve/valve/id_06/normal/0000098...  6_dB_valve   \n",
       "4167  datasets/6_dB_valve/valve/id_06/normal/0000098...  6_dB_valve   \n",
       "4168  datasets/6_dB_valve/valve/id_06/normal/0000099...  6_dB_valve   \n",
       "4169  datasets/6_dB_valve/valve/id_06/normal/0000099...  6_dB_valve   \n",
       "\n",
       "     Type of Machine Model Number    Status     File Name  \n",
       "0              valve        id_00  abnormal  00000000.wav  \n",
       "1              valve        id_00  abnormal  00000001.wav  \n",
       "2              valve        id_00  abnormal  00000002.wav  \n",
       "3              valve        id_00  abnormal  00000003.wav  \n",
       "4              valve        id_00  abnormal  00000004.wav  \n",
       "...              ...          ...       ...           ...  \n",
       "4165           valve        id_06    normal  00000987.wav  \n",
       "4166           valve        id_06    normal  00000988.wav  \n",
       "4167           valve        id_06    normal  00000989.wav  \n",
       "4168           valve        id_06    normal  00000990.wav  \n",
       "4169           valve        id_06    normal  00000991.wav  \n",
       "\n",
       "[4170 rows x 6 columns]"
      ]
     },
     "execution_count": 36,
     "metadata": {},
     "output_type": "execute_result"
    }
   ],
   "source": [
    "df"
   ]
  },
  {
   "cell_type": "code",
   "execution_count": 41,
   "id": "hybrid-prevention",
   "metadata": {},
   "outputs": [],
   "source": [
    "df.to_csv(\"datasets/filepath_valve_6dB.csv\", index=False)"
   ]
  },
  {
   "cell_type": "markdown",
   "id": "demanding-cambridge",
   "metadata": {},
   "source": [
    "Now that we have the file paths, we can use the other notebook `Preprocessing` to get the features."
   ]
  }
 ],
 "metadata": {
  "kernelspec": {
   "display_name": "Python 3",
   "language": "python",
   "name": "python3"
  },
  "language_info": {
   "codemirror_mode": {
    "name": "ipython",
    "version": 3
   },
   "file_extension": ".py",
   "mimetype": "text/x-python",
   "name": "python",
   "nbconvert_exporter": "python",
   "pygments_lexer": "ipython3",
   "version": "3.9.2"
  }
 },
 "nbformat": 4,
 "nbformat_minor": 5
}
