{
 "cells": [
  {
   "cell_type": "markdown",
   "id": "educated-coalition",
   "metadata": {},
   "source": [
    "# VALVE FULL DATASET"
   ]
  },
  {
   "cell_type": "code",
   "execution_count": 1,
   "id": "raised-times",
   "metadata": {},
   "outputs": [],
   "source": [
    "import numpy as np\n",
    "import pandas as pd\n",
    "import matplotlib.pyplot as plt\n",
    "from sklearn.model_selection import train_test_split\n",
    "\n",
    "from sklearn.ensemble import RandomForestClassifier\n",
    "import pickle\n",
    "from sklearn.metrics import classification_report\n",
    "from imblearn.over_sampling import SMOTE"
   ]
  },
  {
   "cell_type": "code",
   "execution_count": 2,
   "id": "medieval-nancy",
   "metadata": {},
   "outputs": [],
   "source": [
    "df = pd.read_csv('../datasets/valve_full_features.csv')"
   ]
  },
  {
   "cell_type": "code",
   "execution_count": 3,
   "id": "signal-biodiversity",
   "metadata": {},
   "outputs": [
    {
     "data": {
      "text/plain": [
       "(12510, 76)"
      ]
     },
     "execution_count": 3,
     "metadata": {},
     "output_type": "execute_result"
    }
   ],
   "source": [
    "df.shape"
   ]
  },
  {
   "cell_type": "code",
   "execution_count": 4,
   "id": "complicated-ivory",
   "metadata": {},
   "outputs": [
    {
     "data": {
      "text/plain": [
       "Index(['Unnamed: 0', 'Type of SNR', 'Type of Machine', 'Model Number',\n",
       "       'Status', 'File Name', 'y', 'SR', 'y mean', 'y max', 'y min',\n",
       "       'chroma_stft min', 'chroma_stft mean', 'chroma_stft max',\n",
       "       'chroma_cqt min', 'chroma_cqt mean', 'chroma_cqt max',\n",
       "       'chroma_cens min', 'chroma_cens mean', 'chroma_cens max',\n",
       "       'melspectogram min', 'melspectogram mean', 'melspectogram max',\n",
       "       'mfcc min', 'mfcc mean', 'mfcc max', 'rms min', 'rms mean', 'rms max',\n",
       "       'spectral_centroid min', 'spectral_centroid mean',\n",
       "       'spectral_centroid max', 'spec_bw min', 'spec_bw mean', 'spec_bw max',\n",
       "       'spec_contrast min', 'spec_contrast mean', 'spec_contrast max',\n",
       "       'flatness min', 'flatness mean', 'flatness max', 'rolloff min',\n",
       "       'rolloff mean', 'rolloff max', 'poly_0 min', 'poly_0 mean',\n",
       "       'poly_0 max', 'poly_1 min', 'poly_1 mean', 'poly_1 max', 'poly_2 min',\n",
       "       'poly_2 mean', 'poly_2 max', 'tonnetz min', 'tonnetz mean',\n",
       "       'tonnetz max', 'zero_crossing_rate min', 'zero_crossing_rate mean',\n",
       "       'zero_crossing_rate max', 'y std', 'chroma_stft std', 'chroma_cqt std',\n",
       "       'chroma_cens std', 'melspectogram std', 'mfcc std', 'rms std',\n",
       "       'spectral_centroid std', 'spec_bw std', 'spec_contrast std',\n",
       "       'flatness std', 'rolloff std', 'poly_0 std', 'poly_1 std', 'poly_2 std',\n",
       "       'tonnetz std', 'zero_crossing_rate std'],\n",
       "      dtype='object')"
      ]
     },
     "execution_count": 4,
     "metadata": {},
     "output_type": "execute_result"
    }
   ],
   "source": [
    "df.columns"
   ]
  },
  {
   "cell_type": "code",
   "execution_count": 8,
   "id": "comfortable-terminology",
   "metadata": {},
   "outputs": [],
   "source": [
    "df1 = df[[ 'y mean', 'y max', 'y min', 'chroma_stft min',\n",
    "       'chroma_stft mean', 'chroma_stft max', 'chroma_cqt min',\n",
    "       'chroma_cqt mean', 'chroma_cqt max', 'chroma_cens min',\n",
    "       'chroma_cens mean', 'chroma_cens max', 'melspectogram min',\n",
    "       'melspectogram mean', 'melspectogram max', 'mfcc min', 'mfcc mean',\n",
    "       'mfcc max', 'rms min', 'rms mean', 'rms max', 'spectral_centroid min',\n",
    "       'spectral_centroid mean', 'spectral_centroid max', 'spec_bw min',\n",
    "       'spec_bw mean', 'spec_bw max', 'spec_contrast min',\n",
    "       'spec_contrast mean', 'spec_contrast max', 'flatness min',\n",
    "       'flatness mean', 'flatness max', 'rolloff min', 'rolloff mean',\n",
    "       'rolloff max', 'poly_0 min', 'poly_0 mean', 'poly_0 max', 'poly_1 min',\n",
    "       'poly_1 mean', 'poly_1 max', 'poly_2 min', 'poly_2 mean', 'poly_2 max',\n",
    "       'tonnetz min', 'tonnetz mean', 'tonnetz max', 'zero_crossing_rate min',\n",
    "       'zero_crossing_rate mean', 'zero_crossing_rate max', 'y std',\n",
    "       'chroma_stft std', 'chroma_cqt std', 'chroma_cens std',\n",
    "       'melspectogram std', 'mfcc std', 'rms std', 'spectral_centroid std',\n",
    "       'spec_bw std', 'spec_contrast std', 'flatness std', 'rolloff std',\n",
    "       'poly_0 std', 'poly_1 std', 'poly_2 std', 'tonnetz std',\n",
    "       'zero_crossing_rate std']].copy()"
   ]
  },
  {
   "cell_type": "code",
   "execution_count": 9,
   "id": "expected-guest",
   "metadata": {},
   "outputs": [],
   "source": [
    "df['Status'].replace({'abnormal' : 1, 'normal' : 0}, inplace=True)"
   ]
  },
  {
   "cell_type": "code",
   "execution_count": 10,
   "id": "informed-beads",
   "metadata": {},
   "outputs": [
    {
     "data": {
      "text/plain": [
       "0    11073\n",
       "1     1437\n",
       "Name: Status, dtype: int64"
      ]
     },
     "execution_count": 10,
     "metadata": {},
     "output_type": "execute_result"
    }
   ],
   "source": [
    "df['Status'].value_counts()"
   ]
  },
  {
   "cell_type": "code",
   "execution_count": 11,
   "id": "false-death",
   "metadata": {},
   "outputs": [
    {
     "data": {
      "text/plain": [
       "((12510, 68), (12510,))"
      ]
     },
     "execution_count": 11,
     "metadata": {},
     "output_type": "execute_result"
    }
   ],
   "source": [
    "X = df1.values\n",
    "y = df['Status'].values\n",
    "X.shape, y.shape"
   ]
  },
  {
   "cell_type": "markdown",
   "id": "addressed-society",
   "metadata": {},
   "source": [
    "#### DIVIDE THE MODEL INTO MODEL AND VALIDATION SET"
   ]
  },
  {
   "cell_type": "code",
   "execution_count": 12,
   "id": "figured-volunteer",
   "metadata": {},
   "outputs": [],
   "source": [
    "X_model, X_validate, y_model, y_validate = train_test_split(X,y,test_size=0.1,random_state = 40)"
   ]
  },
  {
   "cell_type": "markdown",
   "id": "authorized-farming",
   "metadata": {},
   "source": [
    "### DIVIDE THE MODEL INTO TRAIN AND TEST"
   ]
  },
  {
   "cell_type": "code",
   "execution_count": 13,
   "id": "rough-basket",
   "metadata": {},
   "outputs": [],
   "source": [
    "X_train, X_test, y_train, y_test = train_test_split(X_model,y_model,test_size=0.25,random_state = 40)"
   ]
  },
  {
   "cell_type": "code",
   "execution_count": 14,
   "id": "chemical-fault",
   "metadata": {},
   "outputs": [
    {
     "data": {
      "text/plain": [
       "0.952753108348135"
      ]
     },
     "execution_count": 14,
     "metadata": {},
     "output_type": "execute_result"
    }
   ],
   "source": [
    "rf = RandomForestClassifier(n_estimators=40)\n",
    "rf.fit(X_train, y_train)\n",
    "rf.score(X_test, y_test)"
   ]
  },
  {
   "cell_type": "code",
   "execution_count": 15,
   "id": "heard-fantasy",
   "metadata": {},
   "outputs": [
    {
     "name": "stdout",
     "output_type": "stream",
     "text": [
      "              precision    recall  f1-score   support\n",
      "\n",
      "           0       0.95      1.00      0.97      2481\n",
      "           1       0.99      0.61      0.75       334\n",
      "\n",
      "    accuracy                           0.95      2815\n",
      "   macro avg       0.97      0.80      0.86      2815\n",
      "weighted avg       0.95      0.95      0.95      2815\n",
      "\n"
     ]
    }
   ],
   "source": [
    "y_pred = rf.predict(X_test)\n",
    "print(classification_report(y_test,y_pred))"
   ]
  },
  {
   "cell_type": "code",
   "execution_count": 16,
   "id": "modern-trinidad",
   "metadata": {},
   "outputs": [
    {
     "name": "stdout",
     "output_type": "stream",
     "text": [
      "y max\n",
      "y min\n",
      "rms max\n",
      "spec_contrast max\n",
      "rolloff max\n",
      "poly_0 max\n",
      "poly_1 min\n",
      "poly_1 max\n",
      "rms std\n",
      "poly_0 std\n",
      "zero_crossing_rate std\n"
     ]
    },
    {
     "data": {
      "image/png": "[encoded data removed]",
      "text/plain": [
       "<Figure size 432x288 with 1 Axes>"
      ]
     },
     "metadata": {
      "needs_background": "light"
     },
     "output_type": "display_data"
    }
   ],
   "source": [
    "from matplotlib import pyplot\n",
    "importance = rf.feature_importances_\n",
    "for i,v in enumerate(importance):\n",
    "    if v > 0.022:\n",
    "        #print(f'Feature: {df1.columns[i]}, Score: {v:.5f}')\n",
    "        print(df1.columns[i])\n",
    "# plot feature importance\n",
    "pyplot.bar([x for x in range(len(importance))], importance)\n",
    "pyplot.show()"
   ]
  },
  {
   "cell_type": "markdown",
   "id": "unusual-river",
   "metadata": {},
   "source": [
    "### DO SMOTE"
   ]
  },
  {
   "cell_type": "code",
   "execution_count": 17,
   "id": "protecting-klein",
   "metadata": {},
   "outputs": [],
   "source": [
    "sm = SMOTE(random_state=12)\n",
    "X_train_res, y_train_res = sm.fit_resample(X_train, y_train)"
   ]
  },
  {
   "cell_type": "code",
   "execution_count": 18,
   "id": "stylish-martial",
   "metadata": {},
   "outputs": [
    {
     "data": {
      "text/plain": [
       "0.9648312611012433"
      ]
     },
     "execution_count": 18,
     "metadata": {},
     "output_type": "execute_result"
    }
   ],
   "source": [
    "rf = RandomForestClassifier(n_estimators=40)\n",
    "rf.fit(X_train_res, y_train_res)\n",
    "rf.score(X_test, y_test)"
   ]
  },
  {
   "cell_type": "code",
   "execution_count": 19,
   "id": "stuffed-fetish",
   "metadata": {},
   "outputs": [],
   "source": [
    "y_test_pred = rf.predict(X_test)"
   ]
  },
  {
   "cell_type": "code",
   "execution_count": 20,
   "id": "consecutive-sunset",
   "metadata": {},
   "outputs": [
    {
     "data": {
      "text/html": [
       "<div>\n",
       "<style scoped>\n",
       "    .dataframe tbody tr th:only-of-type {\n",
       "        vertical-align: middle;\n",
       "    }\n",
       "\n",
       "    .dataframe tbody tr th {\n",
       "        vertical-align: top;\n",
       "    }\n",
       "\n",
       "    .dataframe thead th {\n",
       "        text-align: right;\n",
       "    }\n",
       "</style>\n",
       "<table border=\"1\" class=\"dataframe\">\n",
       "  <thead>\n",
       "    <tr style=\"text-align: right;\">\n",
       "      <th>Actual</th>\n",
       "      <th>0</th>\n",
       "      <th>1</th>\n",
       "    </tr>\n",
       "    <tr>\n",
       "      <th>Predicted</th>\n",
       "      <th></th>\n",
       "      <th></th>\n",
       "    </tr>\n",
       "  </thead>\n",
       "  <tbody>\n",
       "    <tr>\n",
       "      <th>0</th>\n",
       "      <td>2458</td>\n",
       "      <td>76</td>\n",
       "    </tr>\n",
       "    <tr>\n",
       "      <th>1</th>\n",
       "      <td>23</td>\n",
       "      <td>258</td>\n",
       "    </tr>\n",
       "  </tbody>\n",
       "</table>\n",
       "</div>"
      ],
      "text/plain": [
       "Actual        0    1\n",
       "Predicted           \n",
       "0          2458   76\n",
       "1            23  258"
      ]
     },
     "execution_count": 20,
     "metadata": {},
     "output_type": "execute_result"
    }
   ],
   "source": [
    "pd.crosstab(pd.Series(y_test_pred, name = 'Predicted'),\n",
    "           pd.Series(y_test, name='Actual'))"
   ]
  },
  {
   "cell_type": "code",
   "execution_count": 21,
   "id": "casual-enclosure",
   "metadata": {},
   "outputs": [
    {
     "name": "stdout",
     "output_type": "stream",
     "text": [
      "              precision    recall  f1-score   support\n",
      "\n",
      "           0       0.97      0.99      0.98      2481\n",
      "           1       0.92      0.77      0.84       334\n",
      "\n",
      "    accuracy                           0.96      2815\n",
      "   macro avg       0.94      0.88      0.91      2815\n",
      "weighted avg       0.96      0.96      0.96      2815\n",
      "\n"
     ]
    }
   ],
   "source": [
    "print(classification_report(y_test,y_test_pred))"
   ]
  },
  {
   "cell_type": "code",
   "execution_count": 23,
   "id": "animated-rating",
   "metadata": {},
   "outputs": [],
   "source": [
    "filename = 'datasets/models/valve_models/valve_ALLft_resample.sav'\n",
    "pickle.dump(rf, open(filename, 'wb'))\n"
   ]
  }
 ],
 "metadata": {
  "kernelspec": {
   "display_name": "Python 3",
   "language": "python",
   "name": "python3"
  },
  "language_info": {
   "codemirror_mode": {
    "name": "ipython",
    "version": 3
   },
   "file_extension": ".py",
   "mimetype": "text/x-python",
   "name": "python",
   "nbconvert_exporter": "python",
   "pygments_lexer": "ipython3",
   "version": "3.9.2"
  }
 },
 "nbformat": 4,
 "nbformat_minor": 5
}
