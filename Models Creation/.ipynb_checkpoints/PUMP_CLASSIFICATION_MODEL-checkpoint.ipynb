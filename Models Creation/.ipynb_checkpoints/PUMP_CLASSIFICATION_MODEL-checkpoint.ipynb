{
 "cells": [
  {
   "cell_type": "markdown",
   "id": "educated-coalition",
   "metadata": {},
   "source": [
    "# PUMP FULL DATASET"
   ]
  },
  {
   "cell_type": "code",
   "execution_count": 1,
   "id": "raised-times",
   "metadata": {},
   "outputs": [],
   "source": [
    "import numpy as np\n",
    "import pandas as pd\n",
    "import matplotlib.pyplot as plt\n",
    "from sklearn.model_selection import train_test_split\n",
    "\n",
    "from sklearn.ensemble import RandomForestClassifier\n",
    "import pickle\n",
    "from sklearn.metrics import classification_report\n",
    "from imblearn.over_sampling import SMOTE"
   ]
  },
  {
   "cell_type": "code",
   "execution_count": 3,
   "id": "presidential-intranet",
   "metadata": {},
   "outputs": [],
   "source": [
    "df = pd.read_csv('../datasets/pump_full_features.csv')"
   ]
  },
  {
   "cell_type": "code",
   "execution_count": 5,
   "id": "cellular-howard",
   "metadata": {},
   "outputs": [
    {
     "data": {
      "text/html": [
       "<div>\n",
       "<style scoped>\n",
       "    .dataframe tbody tr th:only-of-type {\n",
       "        vertical-align: middle;\n",
       "    }\n",
       "\n",
       "    .dataframe tbody tr th {\n",
       "        vertical-align: top;\n",
       "    }\n",
       "\n",
       "    .dataframe thead th {\n",
       "        text-align: right;\n",
       "    }\n",
       "</style>\n",
       "<table border=\"1\" class=\"dataframe\">\n",
       "  <thead>\n",
       "    <tr style=\"text-align: right;\">\n",
       "      <th></th>\n",
       "      <th>Unnamed: 0</th>\n",
       "      <th>Type of SNR</th>\n",
       "      <th>Type of Machine</th>\n",
       "      <th>Model Number</th>\n",
       "      <th>Status</th>\n",
       "      <th>File Name</th>\n",
       "      <th>y</th>\n",
       "      <th>SR</th>\n",
       "      <th>y mean</th>\n",
       "      <th>y max</th>\n",
       "      <th>...</th>\n",
       "      <th>spectral_centroid std</th>\n",
       "      <th>spec_bw std</th>\n",
       "      <th>spec_contrast std</th>\n",
       "      <th>flatness std</th>\n",
       "      <th>rolloff std</th>\n",
       "      <th>poly_0 std</th>\n",
       "      <th>poly_1 std</th>\n",
       "      <th>poly_2 std</th>\n",
       "      <th>tonnetz std</th>\n",
       "      <th>zero_crossing_rate std</th>\n",
       "    </tr>\n",
       "  </thead>\n",
       "  <tbody>\n",
       "    <tr>\n",
       "      <th>0</th>\n",
       "      <td>0</td>\n",
       "      <td>6_dB_pump</td>\n",
       "      <td>pump</td>\n",
       "      <td>id_00</td>\n",
       "      <td>abnormal</td>\n",
       "      <td>00000000.wav</td>\n",
       "      <td>[ 2.4361629e-03  2.1362563e-03 -2.8742070e-04 ...</td>\n",
       "      <td>22050</td>\n",
       "      <td>-6.878514e-07</td>\n",
       "      <td>0.093844</td>\n",
       "      <td>...</td>\n",
       "      <td>253.509832</td>\n",
       "      <td>163.432486</td>\n",
       "      <td>18.084111</td>\n",
       "      <td>0.000613</td>\n",
       "      <td>607.115274</td>\n",
       "      <td>0.044482</td>\n",
       "      <td>0.212262</td>\n",
       "      <td>0.333314</td>\n",
       "      <td>0.049982</td>\n",
       "      <td>0.017733</td>\n",
       "    </tr>\n",
       "    <tr>\n",
       "      <th>1</th>\n",
       "      <td>1</td>\n",
       "      <td>6_dB_pump</td>\n",
       "      <td>pump</td>\n",
       "      <td>id_00</td>\n",
       "      <td>abnormal</td>\n",
       "      <td>00000001.wav</td>\n",
       "      <td>[ 0.00168448  0.00068392 -0.00026477 ... -0.00...</td>\n",
       "      <td>22050</td>\n",
       "      <td>2.900213e-07</td>\n",
       "      <td>0.092846</td>\n",
       "      <td>...</td>\n",
       "      <td>212.172917</td>\n",
       "      <td>135.049239</td>\n",
       "      <td>18.118440</td>\n",
       "      <td>0.000322</td>\n",
       "      <td>494.741786</td>\n",
       "      <td>0.038391</td>\n",
       "      <td>0.217738</td>\n",
       "      <td>0.344670</td>\n",
       "      <td>0.041798</td>\n",
       "      <td>0.014099</td>\n",
       "    </tr>\n",
       "    <tr>\n",
       "      <th>2</th>\n",
       "      <td>2</td>\n",
       "      <td>6_dB_pump</td>\n",
       "      <td>pump</td>\n",
       "      <td>id_00</td>\n",
       "      <td>abnormal</td>\n",
       "      <td>00000002.wav</td>\n",
       "      <td>[-0.00567724 -0.0069852  -0.00647624 ...  0.00...</td>\n",
       "      <td>22050</td>\n",
       "      <td>-7.791660e-07</td>\n",
       "      <td>0.091343</td>\n",
       "      <td>...</td>\n",
       "      <td>216.937724</td>\n",
       "      <td>144.161401</td>\n",
       "      <td>18.113436</td>\n",
       "      <td>0.000392</td>\n",
       "      <td>514.221513</td>\n",
       "      <td>0.029347</td>\n",
       "      <td>0.194379</td>\n",
       "      <td>0.305414</td>\n",
       "      <td>0.042152</td>\n",
       "      <td>0.016363</td>\n",
       "    </tr>\n",
       "    <tr>\n",
       "      <th>3</th>\n",
       "      <td>3</td>\n",
       "      <td>6_dB_pump</td>\n",
       "      <td>pump</td>\n",
       "      <td>id_00</td>\n",
       "      <td>abnormal</td>\n",
       "      <td>00000003.wav</td>\n",
       "      <td>[ 0.00511618  0.00385834  0.00169142 ... -0.00...</td>\n",
       "      <td>22050</td>\n",
       "      <td>-1.037314e-06</td>\n",
       "      <td>0.135227</td>\n",
       "      <td>...</td>\n",
       "      <td>251.318545</td>\n",
       "      <td>156.669899</td>\n",
       "      <td>18.074153</td>\n",
       "      <td>0.000916</td>\n",
       "      <td>563.620304</td>\n",
       "      <td>0.039003</td>\n",
       "      <td>0.209279</td>\n",
       "      <td>0.327744</td>\n",
       "      <td>0.044756</td>\n",
       "      <td>0.019558</td>\n",
       "    </tr>\n",
       "    <tr>\n",
       "      <th>4</th>\n",
       "      <td>4</td>\n",
       "      <td>6_dB_pump</td>\n",
       "      <td>pump</td>\n",
       "      <td>id_00</td>\n",
       "      <td>abnormal</td>\n",
       "      <td>00000004.wav</td>\n",
       "      <td>[-0.0111747  -0.01306265 -0.01071244 ... -0.01...</td>\n",
       "      <td>22050</td>\n",
       "      <td>-4.341130e-07</td>\n",
       "      <td>0.087814</td>\n",
       "      <td>...</td>\n",
       "      <td>214.036541</td>\n",
       "      <td>136.836732</td>\n",
       "      <td>18.318521</td>\n",
       "      <td>0.000361</td>\n",
       "      <td>494.265992</td>\n",
       "      <td>0.033735</td>\n",
       "      <td>0.217196</td>\n",
       "      <td>0.343454</td>\n",
       "      <td>0.045100</td>\n",
       "      <td>0.017338</td>\n",
       "    </tr>\n",
       "    <tr>\n",
       "      <th>...</th>\n",
       "      <td>...</td>\n",
       "      <td>...</td>\n",
       "      <td>...</td>\n",
       "      <td>...</td>\n",
       "      <td>...</td>\n",
       "      <td>...</td>\n",
       "      <td>...</td>\n",
       "      <td>...</td>\n",
       "      <td>...</td>\n",
       "      <td>...</td>\n",
       "      <td>...</td>\n",
       "      <td>...</td>\n",
       "      <td>...</td>\n",
       "      <td>...</td>\n",
       "      <td>...</td>\n",
       "      <td>...</td>\n",
       "      <td>...</td>\n",
       "      <td>...</td>\n",
       "      <td>...</td>\n",
       "      <td>...</td>\n",
       "      <td>...</td>\n",
       "    </tr>\n",
       "    <tr>\n",
       "      <th>12610</th>\n",
       "      <td>4200</td>\n",
       "      <td>-6_dB_pump</td>\n",
       "      <td>pump</td>\n",
       "      <td>id_06</td>\n",
       "      <td>normal</td>\n",
       "      <td>00001031.wav</td>\n",
       "      <td>[-2.2149065e-03 -1.5423764e-03 -6.7925267e-04 ...</td>\n",
       "      <td>22050</td>\n",
       "      <td>-1.119335e-06</td>\n",
       "      <td>0.047295</td>\n",
       "      <td>...</td>\n",
       "      <td>58.318996</td>\n",
       "      <td>42.969079</td>\n",
       "      <td>17.115869</td>\n",
       "      <td>0.000044</td>\n",
       "      <td>176.509032</td>\n",
       "      <td>0.005318</td>\n",
       "      <td>0.154774</td>\n",
       "      <td>0.266499</td>\n",
       "      <td>0.039479</td>\n",
       "      <td>0.005255</td>\n",
       "    </tr>\n",
       "    <tr>\n",
       "      <th>12611</th>\n",
       "      <td>4201</td>\n",
       "      <td>-6_dB_pump</td>\n",
       "      <td>pump</td>\n",
       "      <td>id_06</td>\n",
       "      <td>normal</td>\n",
       "      <td>00001032.wav</td>\n",
       "      <td>[ 0.00817731  0.01202268  0.01378764 ... -0.00...</td>\n",
       "      <td>22050</td>\n",
       "      <td>-1.648288e-06</td>\n",
       "      <td>0.040103</td>\n",
       "      <td>...</td>\n",
       "      <td>98.871317</td>\n",
       "      <td>82.863513</td>\n",
       "      <td>19.721246</td>\n",
       "      <td>0.000688</td>\n",
       "      <td>339.371575</td>\n",
       "      <td>0.012998</td>\n",
       "      <td>0.173246</td>\n",
       "      <td>0.239080</td>\n",
       "      <td>0.041034</td>\n",
       "      <td>0.013610</td>\n",
       "    </tr>\n",
       "    <tr>\n",
       "      <th>12612</th>\n",
       "      <td>4202</td>\n",
       "      <td>-6_dB_pump</td>\n",
       "      <td>pump</td>\n",
       "      <td>id_06</td>\n",
       "      <td>normal</td>\n",
       "      <td>00001033.wav</td>\n",
       "      <td>[ 0.00356876  0.00479036  0.00185625 ... -0.00...</td>\n",
       "      <td>22050</td>\n",
       "      <td>2.341846e-07</td>\n",
       "      <td>0.039499</td>\n",
       "      <td>...</td>\n",
       "      <td>70.948239</td>\n",
       "      <td>33.649749</td>\n",
       "      <td>19.484580</td>\n",
       "      <td>0.000569</td>\n",
       "      <td>141.916079</td>\n",
       "      <td>0.006945</td>\n",
       "      <td>0.171896</td>\n",
       "      <td>0.262957</td>\n",
       "      <td>0.033895</td>\n",
       "      <td>0.008998</td>\n",
       "    </tr>\n",
       "    <tr>\n",
       "      <th>12613</th>\n",
       "      <td>4203</td>\n",
       "      <td>-6_dB_pump</td>\n",
       "      <td>pump</td>\n",
       "      <td>id_06</td>\n",
       "      <td>normal</td>\n",
       "      <td>00001034.wav</td>\n",
       "      <td>[-1.1107471e-03 -8.4548417e-05  3.6526336e-03 ...</td>\n",
       "      <td>22050</td>\n",
       "      <td>-1.663233e-06</td>\n",
       "      <td>0.041179</td>\n",
       "      <td>...</td>\n",
       "      <td>81.910632</td>\n",
       "      <td>43.455964</td>\n",
       "      <td>18.366189</td>\n",
       "      <td>0.000569</td>\n",
       "      <td>121.012773</td>\n",
       "      <td>0.011265</td>\n",
       "      <td>0.175184</td>\n",
       "      <td>0.262265</td>\n",
       "      <td>0.055764</td>\n",
       "      <td>0.012991</td>\n",
       "    </tr>\n",
       "    <tr>\n",
       "      <th>12614</th>\n",
       "      <td>4204</td>\n",
       "      <td>-6_dB_pump</td>\n",
       "      <td>pump</td>\n",
       "      <td>id_06</td>\n",
       "      <td>normal</td>\n",
       "      <td>00001035.wav</td>\n",
       "      <td>[ 0.00030039  0.00054308  0.00049763 ... -0.00...</td>\n",
       "      <td>22050</td>\n",
       "      <td>-3.815323e-06</td>\n",
       "      <td>0.041667</td>\n",
       "      <td>...</td>\n",
       "      <td>120.894636</td>\n",
       "      <td>120.119479</td>\n",
       "      <td>17.114639</td>\n",
       "      <td>0.000072</td>\n",
       "      <td>381.756803</td>\n",
       "      <td>0.005656</td>\n",
       "      <td>0.129659</td>\n",
       "      <td>0.230626</td>\n",
       "      <td>0.063669</td>\n",
       "      <td>0.010189</td>\n",
       "    </tr>\n",
       "  </tbody>\n",
       "</table>\n",
       "<p>12615 rows × 76 columns</p>\n",
       "</div>"
      ],
      "text/plain": [
       "       Unnamed: 0 Type of SNR Type of Machine Model Number    Status  \\\n",
       "0               0   6_dB_pump            pump        id_00  abnormal   \n",
       "1               1   6_dB_pump            pump        id_00  abnormal   \n",
       "2               2   6_dB_pump            pump        id_00  abnormal   \n",
       "3               3   6_dB_pump            pump        id_00  abnormal   \n",
       "4               4   6_dB_pump            pump        id_00  abnormal   \n",
       "...           ...         ...             ...          ...       ...   \n",
       "12610        4200  -6_dB_pump            pump        id_06    normal   \n",
       "12611        4201  -6_dB_pump            pump        id_06    normal   \n",
       "12612        4202  -6_dB_pump            pump        id_06    normal   \n",
       "12613        4203  -6_dB_pump            pump        id_06    normal   \n",
       "12614        4204  -6_dB_pump            pump        id_06    normal   \n",
       "\n",
       "          File Name                                                  y     SR  \\\n",
       "0      00000000.wav  [ 2.4361629e-03  2.1362563e-03 -2.8742070e-04 ...  22050   \n",
       "1      00000001.wav  [ 0.00168448  0.00068392 -0.00026477 ... -0.00...  22050   \n",
       "2      00000002.wav  [-0.00567724 -0.0069852  -0.00647624 ...  0.00...  22050   \n",
       "3      00000003.wav  [ 0.00511618  0.00385834  0.00169142 ... -0.00...  22050   \n",
       "4      00000004.wav  [-0.0111747  -0.01306265 -0.01071244 ... -0.01...  22050   \n",
       "...             ...                                                ...    ...   \n",
       "12610  00001031.wav  [-2.2149065e-03 -1.5423764e-03 -6.7925267e-04 ...  22050   \n",
       "12611  00001032.wav  [ 0.00817731  0.01202268  0.01378764 ... -0.00...  22050   \n",
       "12612  00001033.wav  [ 0.00356876  0.00479036  0.00185625 ... -0.00...  22050   \n",
       "12613  00001034.wav  [-1.1107471e-03 -8.4548417e-05  3.6526336e-03 ...  22050   \n",
       "12614  00001035.wav  [ 0.00030039  0.00054308  0.00049763 ... -0.00...  22050   \n",
       "\n",
       "             y mean     y max  ...  spectral_centroid std  spec_bw std  \\\n",
       "0     -6.878514e-07  0.093844  ...             253.509832   163.432486   \n",
       "1      2.900213e-07  0.092846  ...             212.172917   135.049239   \n",
       "2     -7.791660e-07  0.091343  ...             216.937724   144.161401   \n",
       "3     -1.037314e-06  0.135227  ...             251.318545   156.669899   \n",
       "4     -4.341130e-07  0.087814  ...             214.036541   136.836732   \n",
       "...             ...       ...  ...                    ...          ...   \n",
       "12610 -1.119335e-06  0.047295  ...              58.318996    42.969079   \n",
       "12611 -1.648288e-06  0.040103  ...              98.871317    82.863513   \n",
       "12612  2.341846e-07  0.039499  ...              70.948239    33.649749   \n",
       "12613 -1.663233e-06  0.041179  ...              81.910632    43.455964   \n",
       "12614 -3.815323e-06  0.041667  ...             120.894636   120.119479   \n",
       "\n",
       "       spec_contrast std  flatness std  rolloff std  poly_0 std  poly_1 std  \\\n",
       "0              18.084111      0.000613   607.115274    0.044482    0.212262   \n",
       "1              18.118440      0.000322   494.741786    0.038391    0.217738   \n",
       "2              18.113436      0.000392   514.221513    0.029347    0.194379   \n",
       "3              18.074153      0.000916   563.620304    0.039003    0.209279   \n",
       "4              18.318521      0.000361   494.265992    0.033735    0.217196   \n",
       "...                  ...           ...          ...         ...         ...   \n",
       "12610          17.115869      0.000044   176.509032    0.005318    0.154774   \n",
       "12611          19.721246      0.000688   339.371575    0.012998    0.173246   \n",
       "12612          19.484580      0.000569   141.916079    0.006945    0.171896   \n",
       "12613          18.366189      0.000569   121.012773    0.011265    0.175184   \n",
       "12614          17.114639      0.000072   381.756803    0.005656    0.129659   \n",
       "\n",
       "       poly_2 std  tonnetz std  zero_crossing_rate std  \n",
       "0        0.333314     0.049982                0.017733  \n",
       "1        0.344670     0.041798                0.014099  \n",
       "2        0.305414     0.042152                0.016363  \n",
       "3        0.327744     0.044756                0.019558  \n",
       "4        0.343454     0.045100                0.017338  \n",
       "...           ...          ...                     ...  \n",
       "12610    0.266499     0.039479                0.005255  \n",
       "12611    0.239080     0.041034                0.013610  \n",
       "12612    0.262957     0.033895                0.008998  \n",
       "12613    0.262265     0.055764                0.012991  \n",
       "12614    0.230626     0.063669                0.010189  \n",
       "\n",
       "[12615 rows x 76 columns]"
      ]
     },
     "execution_count": 5,
     "metadata": {},
     "output_type": "execute_result"
    }
   ],
   "source": [
    "df"
   ]
  },
  {
   "cell_type": "code",
   "execution_count": 6,
   "id": "signal-biodiversity",
   "metadata": {},
   "outputs": [
    {
     "data": {
      "text/plain": [
       "(12615, 76)"
      ]
     },
     "execution_count": 6,
     "metadata": {},
     "output_type": "execute_result"
    }
   ],
   "source": [
    "df.shape"
   ]
  },
  {
   "cell_type": "code",
   "execution_count": 7,
   "id": "complicated-ivory",
   "metadata": {},
   "outputs": [
    {
     "data": {
      "text/plain": [
       "Index(['Unnamed: 0', 'Type of SNR', 'Type of Machine', 'Model Number',\n",
       "       'Status', 'File Name', 'y', 'SR', 'y mean', 'y max', 'y min',\n",
       "       'chroma_stft min', 'chroma_stft mean', 'chroma_stft max',\n",
       "       'chroma_cqt min', 'chroma_cqt mean', 'chroma_cqt max',\n",
       "       'chroma_cens min', 'chroma_cens mean', 'chroma_cens max',\n",
       "       'melspectogram min', 'melspectogram mean', 'melspectogram max',\n",
       "       'mfcc min', 'mfcc mean', 'mfcc max', 'rms min', 'rms mean', 'rms max',\n",
       "       'spectral_centroid min', 'spectral_centroid mean',\n",
       "       'spectral_centroid max', 'spec_bw min', 'spec_bw mean', 'spec_bw max',\n",
       "       'spec_contrast min', 'spec_contrast mean', 'spec_contrast max',\n",
       "       'flatness min', 'flatness mean', 'flatness max', 'rolloff min',\n",
       "       'rolloff mean', 'rolloff max', 'poly_0 min', 'poly_0 mean',\n",
       "       'poly_0 max', 'poly_1 min', 'poly_1 mean', 'poly_1 max', 'poly_2 min',\n",
       "       'poly_2 mean', 'poly_2 max', 'tonnetz min', 'tonnetz mean',\n",
       "       'tonnetz max', 'zero_crossing_rate min', 'zero_crossing_rate mean',\n",
       "       'zero_crossing_rate max', 'y std', 'chroma_stft std', 'chroma_cqt std',\n",
       "       'chroma_cens std', 'melspectogram std', 'mfcc std', 'rms std',\n",
       "       'spectral_centroid std', 'spec_bw std', 'spec_contrast std',\n",
       "       'flatness std', 'rolloff std', 'poly_0 std', 'poly_1 std', 'poly_2 std',\n",
       "       'tonnetz std', 'zero_crossing_rate std'],\n",
       "      dtype='object')"
      ]
     },
     "execution_count": 7,
     "metadata": {},
     "output_type": "execute_result"
    }
   ],
   "source": [
    "df.columns"
   ]
  },
  {
   "cell_type": "code",
   "execution_count": 8,
   "id": "comfortable-terminology",
   "metadata": {},
   "outputs": [],
   "source": [
    "df1 = df[[ 'y mean', 'y max', 'y min', 'chroma_stft min',\n",
    "       'chroma_stft mean', 'chroma_stft max', 'chroma_cqt min',\n",
    "       'chroma_cqt mean', 'chroma_cqt max', 'chroma_cens min',\n",
    "       'chroma_cens mean', 'chroma_cens max', 'melspectogram min',\n",
    "       'melspectogram mean', 'melspectogram max', 'mfcc min', 'mfcc mean',\n",
    "       'mfcc max', 'rms min', 'rms mean', 'rms max', 'spectral_centroid min',\n",
    "       'spectral_centroid mean', 'spectral_centroid max', 'spec_bw min',\n",
    "       'spec_bw mean', 'spec_bw max', 'spec_contrast min',\n",
    "       'spec_contrast mean', 'spec_contrast max', 'flatness min',\n",
    "       'flatness mean', 'flatness max', 'rolloff min', 'rolloff mean',\n",
    "       'rolloff max', 'poly_0 min', 'poly_0 mean', 'poly_0 max', 'poly_1 min',\n",
    "       'poly_1 mean', 'poly_1 max', 'poly_2 min', 'poly_2 mean', 'poly_2 max',\n",
    "       'tonnetz min', 'tonnetz mean', 'tonnetz max', 'zero_crossing_rate min',\n",
    "       'zero_crossing_rate mean', 'zero_crossing_rate max', 'y std',\n",
    "       'chroma_stft std', 'chroma_cqt std', 'chroma_cens std',\n",
    "       'melspectogram std', 'mfcc std', 'rms std', 'spectral_centroid std',\n",
    "       'spec_bw std', 'spec_contrast std', 'flatness std', 'rolloff std',\n",
    "       'poly_0 std', 'poly_1 std', 'poly_2 std', 'tonnetz std',\n",
    "       'zero_crossing_rate std']].copy()"
   ]
  },
  {
   "cell_type": "code",
   "execution_count": 8,
   "id": "expected-guest",
   "metadata": {},
   "outputs": [],
   "source": [
    "df['Status'].replace({'abnormal' : 1, 'normal' : 0}, inplace=True)"
   ]
  },
  {
   "cell_type": "code",
   "execution_count": 9,
   "id": "informed-beads",
   "metadata": {},
   "outputs": [
    {
     "data": {
      "text/plain": [
       "0    11247\n",
       "1     1368\n",
       "Name: Status, dtype: int64"
      ]
     },
     "execution_count": 9,
     "metadata": {},
     "output_type": "execute_result"
    }
   ],
   "source": [
    "df['Status'].value_counts()"
   ]
  },
  {
   "cell_type": "code",
   "execution_count": 10,
   "id": "false-death",
   "metadata": {},
   "outputs": [
    {
     "data": {
      "text/plain": [
       "((12615, 68), (12615,))"
      ]
     },
     "execution_count": 10,
     "metadata": {},
     "output_type": "execute_result"
    }
   ],
   "source": [
    "X = df1.values\n",
    "y = df['Status'].values\n",
    "X.shape, y.shape"
   ]
  },
  {
   "cell_type": "markdown",
   "id": "addressed-society",
   "metadata": {},
   "source": [
    "#### DIVIDE THE MODEL INTO MODEL AND VALIDATION SET"
   ]
  },
  {
   "cell_type": "code",
   "execution_count": 11,
   "id": "figured-volunteer",
   "metadata": {},
   "outputs": [],
   "source": [
    "X_model, X_validate, y_model, y_validate = train_test_split(X,y,test_size=0.1,random_state = 40)"
   ]
  },
  {
   "cell_type": "markdown",
   "id": "authorized-farming",
   "metadata": {},
   "source": [
    "### DIVIDE THE MODEL INTO TRAIN AND TEST"
   ]
  },
  {
   "cell_type": "code",
   "execution_count": 12,
   "id": "rough-basket",
   "metadata": {},
   "outputs": [],
   "source": [
    "X_train, X_test, y_train, y_test = train_test_split(X_model,y_model,test_size=0.25,random_state = 40)"
   ]
  },
  {
   "cell_type": "code",
   "execution_count": 13,
   "id": "chemical-fault",
   "metadata": {},
   "outputs": [
    {
     "data": {
      "text/plain": [
       "0.9619584360690384"
      ]
     },
     "execution_count": 13,
     "metadata": {},
     "output_type": "execute_result"
    }
   ],
   "source": [
    "rf = RandomForestClassifier(n_estimators=40)\n",
    "rf.fit(X_train, y_train)\n",
    "rf.score(X_test, y_test)"
   ]
  },
  {
   "cell_type": "code",
   "execution_count": 14,
   "id": "heard-fantasy",
   "metadata": {},
   "outputs": [
    {
     "name": "stdout",
     "output_type": "stream",
     "text": [
      "              precision    recall  f1-score   support\n",
      "\n",
      "           0       0.96      1.00      0.98      2554\n",
      "           1       0.98      0.64      0.77       285\n",
      "\n",
      "    accuracy                           0.96      2839\n",
      "   macro avg       0.97      0.82      0.87      2839\n",
      "weighted avg       0.96      0.96      0.96      2839\n",
      "\n"
     ]
    }
   ],
   "source": [
    "y_pred = rf.predict(X_test)\n",
    "print(classification_report(y_test,y_pred))"
   ]
  },
  {
   "cell_type": "code",
   "execution_count": 16,
   "id": "modern-trinidad",
   "metadata": {},
   "outputs": [
    {
     "name": "stdout",
     "output_type": "stream",
     "text": [
      "y max\n",
      "y min\n",
      "rms max\n",
      "spec_bw max\n",
      "poly_0 max\n",
      "poly_1 min\n",
      "poly_1 max\n",
      "poly_2 max\n",
      "y std\n",
      "melspectogram std\n",
      "mfcc std\n",
      "spec_bw std\n",
      "rolloff std\n",
      "poly_1 std\n"
     ]
    },
    {
     "data": {
      "image/png": "[encoded data removed]",
      "text/plain": [
       "<Figure size 432x288 with 1 Axes>"
      ]
     },
     "metadata": {
      "needs_background": "light"
     },
     "output_type": "display_data"
    }
   ],
   "source": [
    "from matplotlib import pyplot\n",
    "importance = rf.feature_importances_\n",
    "for i,v in enumerate(importance):\n",
    "    if v > 0.022:\n",
    "        #print(f'Feature: {df1.columns[i]}, Score: {v:.5f}')\n",
    "        print(df1.columns[i])\n",
    "# plot feature importance\n",
    "pyplot.bar([x for x in range(len(importance))], importance)\n",
    "pyplot.show()"
   ]
  },
  {
   "cell_type": "markdown",
   "id": "unusual-river",
   "metadata": {},
   "source": [
    "### DO SMOTE"
   ]
  },
  {
   "cell_type": "code",
   "execution_count": 17,
   "id": "protecting-klein",
   "metadata": {},
   "outputs": [],
   "source": [
    "sm = SMOTE(random_state=12)\n",
    "X_train_res, y_train_res = sm.fit_resample(X_train, y_train)"
   ]
  },
  {
   "cell_type": "code",
   "execution_count": 18,
   "id": "stylish-martial",
   "metadata": {},
   "outputs": [
    {
     "data": {
      "text/plain": [
       "0.9580838323353293"
      ]
     },
     "execution_count": 18,
     "metadata": {},
     "output_type": "execute_result"
    }
   ],
   "source": [
    "rf = RandomForestClassifier(n_estimators=40)\n",
    "rf.fit(X_train_res, y_train_res)\n",
    "rf.score(X_test, y_test)"
   ]
  },
  {
   "cell_type": "code",
   "execution_count": 19,
   "id": "stuffed-fetish",
   "metadata": {},
   "outputs": [],
   "source": [
    "y_test_pred = rf.predict(X_test)"
   ]
  },
  {
   "cell_type": "code",
   "execution_count": 20,
   "id": "consecutive-sunset",
   "metadata": {},
   "outputs": [
    {
     "data": {
      "text/html": [
       "<div>\n",
       "<style scoped>\n",
       "    .dataframe tbody tr th:only-of-type {\n",
       "        vertical-align: middle;\n",
       "    }\n",
       "\n",
       "    .dataframe tbody tr th {\n",
       "        vertical-align: top;\n",
       "    }\n",
       "\n",
       "    .dataframe thead th {\n",
       "        text-align: right;\n",
       "    }\n",
       "</style>\n",
       "<table border=\"1\" class=\"dataframe\">\n",
       "  <thead>\n",
       "    <tr style=\"text-align: right;\">\n",
       "      <th>Actual</th>\n",
       "      <th>0</th>\n",
       "      <th>1</th>\n",
       "    </tr>\n",
       "    <tr>\n",
       "      <th>Predicted</th>\n",
       "      <th></th>\n",
       "      <th></th>\n",
       "    </tr>\n",
       "  </thead>\n",
       "  <tbody>\n",
       "    <tr>\n",
       "      <th>0</th>\n",
       "      <td>2499</td>\n",
       "      <td>64</td>\n",
       "    </tr>\n",
       "    <tr>\n",
       "      <th>1</th>\n",
       "      <td>55</td>\n",
       "      <td>221</td>\n",
       "    </tr>\n",
       "  </tbody>\n",
       "</table>\n",
       "</div>"
      ],
      "text/plain": [
       "Actual        0    1\n",
       "Predicted           \n",
       "0          2499   64\n",
       "1            55  221"
      ]
     },
     "execution_count": 20,
     "metadata": {},
     "output_type": "execute_result"
    }
   ],
   "source": [
    "pd.crosstab(pd.Series(y_test_pred, name = 'Predicted'),\n",
    "           pd.Series(y_test, name='Actual'))"
   ]
  },
  {
   "cell_type": "code",
   "execution_count": 21,
   "id": "casual-enclosure",
   "metadata": {},
   "outputs": [
    {
     "name": "stdout",
     "output_type": "stream",
     "text": [
      "              precision    recall  f1-score   support\n",
      "\n",
      "           0       0.98      0.98      0.98      2554\n",
      "           1       0.80      0.78      0.79       285\n",
      "\n",
      "    accuracy                           0.96      2839\n",
      "   macro avg       0.89      0.88      0.88      2839\n",
      "weighted avg       0.96      0.96      0.96      2839\n",
      "\n"
     ]
    }
   ],
   "source": [
    "print(classification_report(y_test,y_test_pred))"
   ]
  },
  {
   "cell_type": "code",
   "execution_count": 22,
   "id": "capital-nicaragua",
   "metadata": {},
   "outputs": [],
   "source": [
    "filename = 'datasets/models/pump_models/pump_ALLft_resample.sav'\n",
    "pickle.dump(rf, open(filename, 'wb'))\n"
   ]
  }
 ],
 "metadata": {
  "kernelspec": {
   "display_name": "Python 3",
   "language": "python",
   "name": "python3"
  },
  "language_info": {
   "codemirror_mode": {
    "name": "ipython",
    "version": 3
   },
   "file_extension": ".py",
   "mimetype": "text/x-python",
   "name": "python",
   "nbconvert_exporter": "python",
   "pygments_lexer": "ipython3",
   "version": "3.9.2"
  }
 },
 "nbformat": 4,
 "nbformat_minor": 5
}
