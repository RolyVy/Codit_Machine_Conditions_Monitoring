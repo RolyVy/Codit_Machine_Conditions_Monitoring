{
 "cells": [
  {
   "cell_type": "markdown",
   "id": "educated-coalition",
   "metadata": {},
   "source": [
    "# VALVE FULL DATASET"
   ]
  },
  {
   "cell_type": "code",
   "execution_count": 2,
   "id": "raised-times",
   "metadata": {},
   "outputs": [],
   "source": [
    "import numpy as np\n",
    "import pandas as pd\n",
    "import matplotlib.pyplot as plt\n",
    "from sklearn.model_selection import train_test_split\n",
    "\n",
    "from sklearn.ensemble import RandomForestClassifier\n",
    "import pickle\n",
    "from sklearn.metrics import classification_report\n",
    "from imblearn.over_sampling import SMOTE"
   ]
  },
  {
   "cell_type": "code",
   "execution_count": 3,
   "id": "medieval-nancy",
   "metadata": {},
   "outputs": [],
   "source": [
    "zero = pd.read_csv('datasets/valve/0_dB_valve_filepath_features_and_std.csv')\n",
    "six = pd.read_csv('datasets/valve/valve_6dB_filepath_features_and_std.csv')\n",
    "neg = pd.read_csv('datasets/valve/-6_dB_valve_filepath_features_and_std.csv')"
   ]
  },
  {
   "cell_type": "code",
   "execution_count": 4,
   "id": "presidential-intranet",
   "metadata": {},
   "outputs": [],
   "source": [
    "d = six.append(zero)\n",
    "df = d.append(neg)"
   ]
  },
  {
   "cell_type": "code",
   "execution_count": 5,
   "id": "cellular-howard",
   "metadata": {},
   "outputs": [],
   "source": [
    "df.to_csv('datasets/valve/valve_full_features_with_std.csv')"
   ]
  },
  {
   "cell_type": "code",
   "execution_count": 6,
   "id": "signal-biodiversity",
   "metadata": {},
   "outputs": [
    {
     "data": {
      "text/plain": [
       "(12510, 75)"
      ]
     },
     "execution_count": 6,
     "metadata": {},
     "output_type": "execute_result"
    }
   ],
   "source": [
    "df.shape"
   ]
  },
  {
   "cell_type": "code",
   "execution_count": 7,
   "id": "complicated-ivory",
   "metadata": {},
   "outputs": [
    {
     "data": {
      "text/plain": [
       "Index(['Type of SNR', 'Type of Machine', 'Model Number', 'Status', 'File Name',\n",
       "       'y', 'SR', 'y mean', 'y max', 'y min', 'chroma_stft min',\n",
       "       'chroma_stft mean', 'chroma_stft max', 'chroma_cqt min',\n",
       "       'chroma_cqt mean', 'chroma_cqt max', 'chroma_cens min',\n",
       "       'chroma_cens mean', 'chroma_cens max', 'melspectogram min',\n",
       "       'melspectogram mean', 'melspectogram max', 'mfcc min', 'mfcc mean',\n",
       "       'mfcc max', 'rms min', 'rms mean', 'rms max', 'spectral_centroid min',\n",
       "       'spectral_centroid mean', 'spectral_centroid max', 'spec_bw min',\n",
       "       'spec_bw mean', 'spec_bw max', 'spec_contrast min',\n",
       "       'spec_contrast mean', 'spec_contrast max', 'flatness min',\n",
       "       'flatness mean', 'flatness max', 'rolloff min', 'rolloff mean',\n",
       "       'rolloff max', 'poly_0 min', 'poly_0 mean', 'poly_0 max', 'poly_1 min',\n",
       "       'poly_1 mean', 'poly_1 max', 'poly_2 min', 'poly_2 mean', 'poly_2 max',\n",
       "       'tonnetz min', 'tonnetz mean', 'tonnetz max', 'zero_crossing_rate min',\n",
       "       'zero_crossing_rate mean', 'zero_crossing_rate max', 'y std',\n",
       "       'chroma_stft std', 'chroma_cqt std', 'chroma_cens std',\n",
       "       'melspectogram std', 'mfcc std', 'rms std', 'spectral_centroid std',\n",
       "       'spec_bw std', 'spec_contrast std', 'flatness std', 'rolloff std',\n",
       "       'poly_0 std', 'poly_1 std', 'poly_2 std', 'tonnetz std',\n",
       "       'zero_crossing_rate std'],\n",
       "      dtype='object')"
      ]
     },
     "execution_count": 7,
     "metadata": {},
     "output_type": "execute_result"
    }
   ],
   "source": [
    "df.columns"
   ]
  },
  {
   "cell_type": "code",
   "execution_count": 8,
   "id": "comfortable-terminology",
   "metadata": {},
   "outputs": [],
   "source": [
    "df1 = df[[ 'y mean', 'y max', 'y min', 'chroma_stft min',\n",
    "       'chroma_stft mean', 'chroma_stft max', 'chroma_cqt min',\n",
    "       'chroma_cqt mean', 'chroma_cqt max', 'chroma_cens min',\n",
    "       'chroma_cens mean', 'chroma_cens max', 'melspectogram min',\n",
    "       'melspectogram mean', 'melspectogram max', 'mfcc min', 'mfcc mean',\n",
    "       'mfcc max', 'rms min', 'rms mean', 'rms max', 'spectral_centroid min',\n",
    "       'spectral_centroid mean', 'spectral_centroid max', 'spec_bw min',\n",
    "       'spec_bw mean', 'spec_bw max', 'spec_contrast min',\n",
    "       'spec_contrast mean', 'spec_contrast max', 'flatness min',\n",
    "       'flatness mean', 'flatness max', 'rolloff min', 'rolloff mean',\n",
    "       'rolloff max', 'poly_0 min', 'poly_0 mean', 'poly_0 max', 'poly_1 min',\n",
    "       'poly_1 mean', 'poly_1 max', 'poly_2 min', 'poly_2 mean', 'poly_2 max',\n",
    "       'tonnetz min', 'tonnetz mean', 'tonnetz max', 'zero_crossing_rate min',\n",
    "       'zero_crossing_rate mean', 'zero_crossing_rate max', 'y std',\n",
    "       'chroma_stft std', 'chroma_cqt std', 'chroma_cens std',\n",
    "       'melspectogram std', 'mfcc std', 'rms std', 'spectral_centroid std',\n",
    "       'spec_bw std', 'spec_contrast std', 'flatness std', 'rolloff std',\n",
    "       'poly_0 std', 'poly_1 std', 'poly_2 std', 'tonnetz std',\n",
    "       'zero_crossing_rate std']].copy()"
   ]
  },
  {
   "cell_type": "code",
   "execution_count": 9,
   "id": "expected-guest",
   "metadata": {},
   "outputs": [],
   "source": [
    "df['Status'].replace({'abnormal' : 1, 'normal' : 0}, inplace=True)"
   ]
  },
  {
   "cell_type": "code",
   "execution_count": 10,
   "id": "informed-beads",
   "metadata": {},
   "outputs": [
    {
     "data": {
      "text/plain": [
       "0    11073\n",
       "1     1437\n",
       "Name: Status, dtype: int64"
      ]
     },
     "execution_count": 10,
     "metadata": {},
     "output_type": "execute_result"
    }
   ],
   "source": [
    "df['Status'].value_counts()"
   ]
  },
  {
   "cell_type": "code",
   "execution_count": 11,
   "id": "false-death",
   "metadata": {},
   "outputs": [
    {
     "data": {
      "text/plain": [
       "((12510, 68), (12510,))"
      ]
     },
     "execution_count": 11,
     "metadata": {},
     "output_type": "execute_result"
    }
   ],
   "source": [
    "X = df1.values\n",
    "y = df['Status'].values\n",
    "X.shape, y.shape"
   ]
  },
  {
   "cell_type": "markdown",
   "id": "addressed-society",
   "metadata": {},
   "source": [
    "#### DIVIDE THE MODEL INTO MODEL AND VALIDATION SET"
   ]
  },
  {
   "cell_type": "code",
   "execution_count": 12,
   "id": "figured-volunteer",
   "metadata": {},
   "outputs": [],
   "source": [
    "X_model, X_validate, y_model, y_validate = train_test_split(X,y,test_size=0.1,random_state = 40)"
   ]
  },
  {
   "cell_type": "markdown",
   "id": "authorized-farming",
   "metadata": {},
   "source": [
    "### DIVIDE THE MODEL INTO TRAIN AND TEST"
   ]
  },
  {
   "cell_type": "code",
   "execution_count": 13,
   "id": "rough-basket",
   "metadata": {},
   "outputs": [],
   "source": [
    "X_train, X_test, y_train, y_test = train_test_split(X_model,y_model,test_size=0.25,random_state = 40)"
   ]
  },
  {
   "cell_type": "code",
   "execution_count": 14,
   "id": "chemical-fault",
   "metadata": {},
   "outputs": [
    {
     "data": {
      "text/plain": [
       "0.952753108348135"
      ]
     },
     "execution_count": 14,
     "metadata": {},
     "output_type": "execute_result"
    }
   ],
   "source": [
    "rf = RandomForestClassifier(n_estimators=40)\n",
    "rf.fit(X_train, y_train)\n",
    "rf.score(X_test, y_test)"
   ]
  },
  {
   "cell_type": "code",
   "execution_count": 15,
   "id": "heard-fantasy",
   "metadata": {},
   "outputs": [
    {
     "name": "stdout",
     "output_type": "stream",
     "text": [
      "              precision    recall  f1-score   support\n",
      "\n",
      "           0       0.95      1.00      0.97      2481\n",
      "           1       0.99      0.61      0.75       334\n",
      "\n",
      "    accuracy                           0.95      2815\n",
      "   macro avg       0.97      0.80      0.86      2815\n",
      "weighted avg       0.95      0.95      0.95      2815\n",
      "\n"
     ]
    }
   ],
   "source": [
    "y_pred = rf.predict(X_test)\n",
    "print(classification_report(y_test,y_pred))"
   ]
  },
  {
   "cell_type": "code",
   "execution_count": 16,
   "id": "modern-trinidad",
   "metadata": {},
   "outputs": [
    {
     "name": "stdout",
     "output_type": "stream",
     "text": [
      "y max\n",
      "y min\n",
      "rms max\n",
      "spec_contrast max\n",
      "rolloff max\n",
      "poly_0 max\n",
      "poly_1 min\n",
      "poly_1 max\n",
      "rms std\n",
      "poly_0 std\n",
      "zero_crossing_rate std\n"
     ]
    },
    {
     "data": {
      "image/png": "[encoded data removed]",
      "text/plain": [
       "<Figure size 432x288 with 1 Axes>"
      ]
     },
     "metadata": {
      "needs_background": "light"
     },
     "output_type": "display_data"
    }
   ],
   "source": [
    "from matplotlib import pyplot\n",
    "importance = rf.feature_importances_\n",
    "for i,v in enumerate(importance):\n",
    "    if v > 0.022:\n",
    "        #print(f'Feature: {df1.columns[i]}, Score: {v:.5f}')\n",
    "        print(df1.columns[i])\n",
    "# plot feature importance\n",
    "pyplot.bar([x for x in range(len(importance))], importance)\n",
    "pyplot.show()"
   ]
  },
  {
   "cell_type": "markdown",
   "id": "unusual-river",
   "metadata": {},
   "source": [
    "### DO SMOTE"
   ]
  },
  {
   "cell_type": "code",
   "execution_count": 17,
   "id": "protecting-klein",
   "metadata": {},
   "outputs": [],
   "source": [
    "sm = SMOTE(random_state=12)\n",
    "X_train_res, y_train_res = sm.fit_resample(X_train, y_train)"
   ]
  },
  {
   "cell_type": "code",
   "execution_count": 18,
   "id": "stylish-martial",
   "metadata": {},
   "outputs": [
    {
     "data": {
      "text/plain": [
       "0.9648312611012433"
      ]
     },
     "execution_count": 18,
     "metadata": {},
     "output_type": "execute_result"
    }
   ],
   "source": [
    "rf = RandomForestClassifier(n_estimators=40)\n",
    "rf.fit(X_train_res, y_train_res)\n",
    "rf.score(X_test, y_test)"
   ]
  },
  {
   "cell_type": "code",
   "execution_count": 19,
   "id": "stuffed-fetish",
   "metadata": {},
   "outputs": [],
   "source": [
    "y_test_pred = rf.predict(X_test)"
   ]
  },
  {
   "cell_type": "code",
   "execution_count": 20,
   "id": "consecutive-sunset",
   "metadata": {},
   "outputs": [
    {
     "data": {
      "text/html": [
       "<div>\n",
       "<style scoped>\n",
       "    .dataframe tbody tr th:only-of-type {\n",
       "        vertical-align: middle;\n",
       "    }\n",
       "\n",
       "    .dataframe tbody tr th {\n",
       "        vertical-align: top;\n",
       "    }\n",
       "\n",
       "    .dataframe thead th {\n",
       "        text-align: right;\n",
       "    }\n",
       "</style>\n",
       "<table border=\"1\" class=\"dataframe\">\n",
       "  <thead>\n",
       "    <tr style=\"text-align: right;\">\n",
       "      <th>Actual</th>\n",
       "      <th>0</th>\n",
       "      <th>1</th>\n",
       "    </tr>\n",
       "    <tr>\n",
       "      <th>Predicted</th>\n",
       "      <th></th>\n",
       "      <th></th>\n",
       "    </tr>\n",
       "  </thead>\n",
       "  <tbody>\n",
       "    <tr>\n",
       "      <th>0</th>\n",
       "      <td>2458</td>\n",
       "      <td>76</td>\n",
       "    </tr>\n",
       "    <tr>\n",
       "      <th>1</th>\n",
       "      <td>23</td>\n",
       "      <td>258</td>\n",
       "    </tr>\n",
       "  </tbody>\n",
       "</table>\n",
       "</div>"
      ],
      "text/plain": [
       "Actual        0    1\n",
       "Predicted           \n",
       "0          2458   76\n",
       "1            23  258"
      ]
     },
     "execution_count": 20,
     "metadata": {},
     "output_type": "execute_result"
    }
   ],
   "source": [
    "pd.crosstab(pd.Series(y_test_pred, name = 'Predicted'),\n",
    "           pd.Series(y_test, name='Actual'))"
   ]
  },
  {
   "cell_type": "code",
   "execution_count": 21,
   "id": "casual-enclosure",
   "metadata": {},
   "outputs": [
    {
     "name": "stdout",
     "output_type": "stream",
     "text": [
      "              precision    recall  f1-score   support\n",
      "\n",
      "           0       0.97      0.99      0.98      2481\n",
      "           1       0.92      0.77      0.84       334\n",
      "\n",
      "    accuracy                           0.96      2815\n",
      "   macro avg       0.94      0.88      0.91      2815\n",
      "weighted avg       0.96      0.96      0.96      2815\n",
      "\n"
     ]
    }
   ],
   "source": [
    "print(classification_report(y_test,y_test_pred))"
   ]
  },
  {
   "cell_type": "code",
   "execution_count": 23,
   "id": "animated-rating",
   "metadata": {},
   "outputs": [],
   "source": [
    "filename = 'datasets/models/valve_models/valve_ALLft_resample.sav'\n",
    "pickle.dump(rf, open(filename, 'wb'))\n"
   ]
  },
  {
   "cell_type": "markdown",
   "id": "straight-psychology",
   "metadata": {},
   "source": [
    "### LESSER COLUMNS"
   ]
  },
  {
   "cell_type": "code",
   "execution_count": 45,
   "id": "aboriginal-footwear",
   "metadata": {},
   "outputs": [],
   "source": [
    "les = df[['y max', 'y min', 'rms max', 'spec_contrast max', 'rolloff max', \n",
    "'poly_0 max', 'poly_1 min', 'poly_1 max', 'rms std', 'poly_0 std','zero_crossing_rate std']].copy()"
   ]
  },
  {
   "cell_type": "code",
   "execution_count": 46,
   "id": "adjustable-lexington",
   "metadata": {},
   "outputs": [
    {
     "data": {
      "text/plain": [
       "((12510, 11), (12510,))"
      ]
     },
     "execution_count": 46,
     "metadata": {},
     "output_type": "execute_result"
    }
   ],
   "source": [
    "X = les.values\n",
    "y = df['Status'].values\n",
    "X.shape, y.shape"
   ]
  },
  {
   "cell_type": "code",
   "execution_count": 47,
   "id": "boolean-gazette",
   "metadata": {},
   "outputs": [],
   "source": [
    "X_model, X_validate, y_model, y_validate = train_test_split(X,y,test_size=0.1,random_state = 40)"
   ]
  },
  {
   "cell_type": "code",
   "execution_count": 48,
   "id": "human-puzzle",
   "metadata": {},
   "outputs": [],
   "source": [
    "X_train, X_test, y_train, y_test = train_test_split(X_model,y_model,test_size=0.25,random_state = 40)"
   ]
  },
  {
   "cell_type": "code",
   "execution_count": 49,
   "id": "combined-caution",
   "metadata": {},
   "outputs": [
    {
     "data": {
      "text/plain": [
       "0.9591474245115453"
      ]
     },
     "execution_count": 49,
     "metadata": {},
     "output_type": "execute_result"
    }
   ],
   "source": [
    "rf = RandomForestClassifier(n_estimators=40)\n",
    "rf.fit(X_train, y_train)\n",
    "rf.score(X_test, y_test)"
   ]
  },
  {
   "cell_type": "code",
   "execution_count": 50,
   "id": "urban-nelson",
   "metadata": {},
   "outputs": [],
   "source": [
    "sm = SMOTE(random_state=12)\n",
    "X_train_res, y_train_res = sm.fit_resample(X_train, y_train)"
   ]
  },
  {
   "cell_type": "code",
   "execution_count": 51,
   "id": "irish-antibody",
   "metadata": {},
   "outputs": [
    {
     "data": {
      "text/plain": [
       "0.955595026642984"
      ]
     },
     "execution_count": 51,
     "metadata": {},
     "output_type": "execute_result"
    }
   ],
   "source": [
    "rf = RandomForestClassifier(n_estimators=40)\n",
    "rf.fit(X_train_res, y_train_res)\n",
    "rf.score(X_test, y_test)"
   ]
  },
  {
   "cell_type": "code",
   "execution_count": 52,
   "id": "valued-positive",
   "metadata": {},
   "outputs": [],
   "source": [
    "y_test_pred = rf.predict(X_test)"
   ]
  },
  {
   "cell_type": "code",
   "execution_count": 53,
   "id": "mechanical-simple",
   "metadata": {},
   "outputs": [],
   "source": [
    "validation_test = rf.predict(X_validate)"
   ]
  },
  {
   "cell_type": "code",
   "execution_count": 54,
   "id": "through-ready",
   "metadata": {},
   "outputs": [
    {
     "data": {
      "text/html": [
       "<div>\n",
       "<style scoped>\n",
       "    .dataframe tbody tr th:only-of-type {\n",
       "        vertical-align: middle;\n",
       "    }\n",
       "\n",
       "    .dataframe tbody tr th {\n",
       "        vertical-align: top;\n",
       "    }\n",
       "\n",
       "    .dataframe thead th {\n",
       "        text-align: right;\n",
       "    }\n",
       "</style>\n",
       "<table border=\"1\" class=\"dataframe\">\n",
       "  <thead>\n",
       "    <tr style=\"text-align: right;\">\n",
       "      <th>Actual</th>\n",
       "      <th>0</th>\n",
       "      <th>1</th>\n",
       "    </tr>\n",
       "    <tr>\n",
       "      <th>Predicted</th>\n",
       "      <th></th>\n",
       "      <th></th>\n",
       "    </tr>\n",
       "  </thead>\n",
       "  <tbody>\n",
       "    <tr>\n",
       "      <th>0</th>\n",
       "      <td>1078</td>\n",
       "      <td>25</td>\n",
       "    </tr>\n",
       "    <tr>\n",
       "      <th>1</th>\n",
       "      <td>36</td>\n",
       "      <td>112</td>\n",
       "    </tr>\n",
       "  </tbody>\n",
       "</table>\n",
       "</div>"
      ],
      "text/plain": [
       "Actual        0    1\n",
       "Predicted           \n",
       "0          1078   25\n",
       "1            36  112"
      ]
     },
     "execution_count": 54,
     "metadata": {},
     "output_type": "execute_result"
    }
   ],
   "source": [
    "pd.crosstab(pd.Series(validation_test, name = 'Predicted'),\n",
    "           pd.Series(y_validate, name='Actual'))"
   ]
  },
  {
   "cell_type": "code",
   "execution_count": 55,
   "id": "pressing-lancaster",
   "metadata": {},
   "outputs": [
    {
     "data": {
      "text/html": [
       "<div>\n",
       "<style scoped>\n",
       "    .dataframe tbody tr th:only-of-type {\n",
       "        vertical-align: middle;\n",
       "    }\n",
       "\n",
       "    .dataframe tbody tr th {\n",
       "        vertical-align: top;\n",
       "    }\n",
       "\n",
       "    .dataframe thead th {\n",
       "        text-align: right;\n",
       "    }\n",
       "</style>\n",
       "<table border=\"1\" class=\"dataframe\">\n",
       "  <thead>\n",
       "    <tr style=\"text-align: right;\">\n",
       "      <th>Actual</th>\n",
       "      <th>0</th>\n",
       "      <th>1</th>\n",
       "    </tr>\n",
       "    <tr>\n",
       "      <th>Predicted</th>\n",
       "      <th></th>\n",
       "      <th></th>\n",
       "    </tr>\n",
       "  </thead>\n",
       "  <tbody>\n",
       "    <tr>\n",
       "      <th>0</th>\n",
       "      <td>2404</td>\n",
       "      <td>48</td>\n",
       "    </tr>\n",
       "    <tr>\n",
       "      <th>1</th>\n",
       "      <td>77</td>\n",
       "      <td>286</td>\n",
       "    </tr>\n",
       "  </tbody>\n",
       "</table>\n",
       "</div>"
      ],
      "text/plain": [
       "Actual        0    1\n",
       "Predicted           \n",
       "0          2404   48\n",
       "1            77  286"
      ]
     },
     "execution_count": 55,
     "metadata": {},
     "output_type": "execute_result"
    }
   ],
   "source": [
    "pd.crosstab(pd.Series(y_test_pred, name = 'Predicted'),\n",
    "           pd.Series(y_test, name='Actual'))"
   ]
  },
  {
   "cell_type": "code",
   "execution_count": 56,
   "id": "combined-privacy",
   "metadata": {},
   "outputs": [
    {
     "name": "stdout",
     "output_type": "stream",
     "text": [
      "              precision    recall  f1-score   support\n",
      "\n",
      "           0       0.98      0.97      0.97      2481\n",
      "           1       0.79      0.86      0.82       334\n",
      "\n",
      "    accuracy                           0.96      2815\n",
      "   macro avg       0.88      0.91      0.90      2815\n",
      "weighted avg       0.96      0.96      0.96      2815\n",
      "\n"
     ]
    }
   ],
   "source": [
    "print(classification_report(y_test,y_test_pred))"
   ]
  },
  {
   "cell_type": "code",
   "execution_count": 37,
   "id": "skilled-ghana",
   "metadata": {},
   "outputs": [],
   "source": [
    "filename = 'datasets/models/valve_models/valve_11ft_resample.sav'\n",
    "pickle.dump(rf, open(filename, 'wb'))"
   ]
  },
  {
   "cell_type": "markdown",
   "id": "aging-montana",
   "metadata": {},
   "source": [
    "### ANOTHER LESSER COLUMNS"
   ]
  },
  {
   "cell_type": "code",
   "execution_count": 57,
   "id": "express-shame",
   "metadata": {},
   "outputs": [
    {
     "name": "stdout",
     "output_type": "stream",
     "text": [
      "y max\n",
      "y min\n",
      "rms max\n",
      "spec_contrast max\n",
      "rolloff max\n",
      "poly_0 max\n",
      "poly_1 min\n",
      "poly_1 max\n",
      "rms std\n",
      "poly_0 std\n",
      "zero_crossing_rate std\n"
     ]
    },
    {
     "data": {
      "image/png": "[encoded data removed]",
      "text/plain": [
       "<Figure size 432x288 with 1 Axes>"
      ]
     },
     "metadata": {
      "needs_background": "light"
     },
     "output_type": "display_data"
    }
   ],
   "source": [
    "from matplotlib import pyplot\n",
    "importance = rf.feature_importances_\n",
    "for i,v in enumerate(importance):\n",
    "    if v > 0.022:\n",
    "        #print(f'Feature: {df1.columns[i]}, Score: {v:.5f}')\n",
    "        print(les.columns[i])\n",
    "# plot feature importance\n",
    "pyplot.bar([x for x in range(len(importance))], importance)\n",
    "pyplot.show()"
   ]
  },
  {
   "cell_type": "code",
   "execution_count": 58,
   "id": "hairy-optimum",
   "metadata": {},
   "outputs": [],
   "source": [
    "test3 = df[['y max', 'rms max', 'spec_contrast max', 'rolloff max', \n",
    "'poly_0 max', 'poly_1 max', 'rms std', 'poly_0 std']].copy()"
   ]
  },
  {
   "cell_type": "code",
   "execution_count": 59,
   "id": "seventh-attention",
   "metadata": {},
   "outputs": [
    {
     "data": {
      "text/plain": [
       "((12510, 8), (12510,))"
      ]
     },
     "execution_count": 59,
     "metadata": {},
     "output_type": "execute_result"
    }
   ],
   "source": [
    "X = test3.values\n",
    "y = df['Status'].values\n",
    "X.shape, y.shape"
   ]
  },
  {
   "cell_type": "code",
   "execution_count": 60,
   "id": "encouraging-argentina",
   "metadata": {},
   "outputs": [],
   "source": [
    "X_model, X_validate, y_model, y_validate = train_test_split(X,y,test_size=0.1,random_state = 40)"
   ]
  },
  {
   "cell_type": "code",
   "execution_count": 61,
   "id": "psychological-annual",
   "metadata": {},
   "outputs": [],
   "source": [
    "X_train, X_test, y_train, y_test = train_test_split(X_model,y_model,test_size=0.25,random_state = 40)"
   ]
  },
  {
   "cell_type": "code",
   "execution_count": 74,
   "id": "engaging-reduction",
   "metadata": {},
   "outputs": [
    {
     "data": {
      "text/plain": [
       "0.9566607460035524"
      ]
     },
     "execution_count": 74,
     "metadata": {},
     "output_type": "execute_result"
    }
   ],
   "source": [
    "rf = RandomForestClassifier(n_estimators=40)\n",
    "rf.fit(X_train, y_train)\n",
    "rf.score(X_test, y_test)"
   ]
  },
  {
   "cell_type": "code",
   "execution_count": 75,
   "id": "prescription-communications",
   "metadata": {},
   "outputs": [],
   "source": [
    "filename = 'datasets/models/valve_models/valve_rf_8cols.sav'\n",
    "pickle.dump(rf, open(filename, 'wb'))"
   ]
  },
  {
   "cell_type": "code",
   "execution_count": 65,
   "id": "middle-underwear",
   "metadata": {},
   "outputs": [],
   "source": [
    "sm = SMOTE(random_state=12)\n",
    "X_train_res, y_train_res = sm.fit_resample(X_train, y_train)"
   ]
  },
  {
   "cell_type": "code",
   "execution_count": 66,
   "id": "confident-resource",
   "metadata": {},
   "outputs": [
    {
     "data": {
      "text/plain": [
       "0.9488454706927176"
      ]
     },
     "execution_count": 66,
     "metadata": {},
     "output_type": "execute_result"
    }
   ],
   "source": [
    "rf = RandomForestClassifier(n_estimators=40)\n",
    "rf.fit(X_train_res, y_train_res)\n",
    "rf.score(X_test, y_test)"
   ]
  },
  {
   "cell_type": "code",
   "execution_count": 67,
   "id": "professional-handy",
   "metadata": {},
   "outputs": [],
   "source": [
    "y_test_pred = rf.predict(X_test)"
   ]
  },
  {
   "cell_type": "code",
   "execution_count": 68,
   "id": "dutch-delhi",
   "metadata": {},
   "outputs": [],
   "source": [
    "validation_test = rf.predict(X_validate)"
   ]
  },
  {
   "cell_type": "code",
   "execution_count": 69,
   "id": "demanding-interpretation",
   "metadata": {},
   "outputs": [
    {
     "data": {
      "text/html": [
       "<div>\n",
       "<style scoped>\n",
       "    .dataframe tbody tr th:only-of-type {\n",
       "        vertical-align: middle;\n",
       "    }\n",
       "\n",
       "    .dataframe tbody tr th {\n",
       "        vertical-align: top;\n",
       "    }\n",
       "\n",
       "    .dataframe thead th {\n",
       "        text-align: right;\n",
       "    }\n",
       "</style>\n",
       "<table border=\"1\" class=\"dataframe\">\n",
       "  <thead>\n",
       "    <tr style=\"text-align: right;\">\n",
       "      <th>Actual</th>\n",
       "      <th>0</th>\n",
       "      <th>1</th>\n",
       "    </tr>\n",
       "    <tr>\n",
       "      <th>Predicted</th>\n",
       "      <th></th>\n",
       "      <th></th>\n",
       "    </tr>\n",
       "  </thead>\n",
       "  <tbody>\n",
       "    <tr>\n",
       "      <th>0</th>\n",
       "      <td>1068</td>\n",
       "      <td>18</td>\n",
       "    </tr>\n",
       "    <tr>\n",
       "      <th>1</th>\n",
       "      <td>46</td>\n",
       "      <td>119</td>\n",
       "    </tr>\n",
       "  </tbody>\n",
       "</table>\n",
       "</div>"
      ],
      "text/plain": [
       "Actual        0    1\n",
       "Predicted           \n",
       "0          1068   18\n",
       "1            46  119"
      ]
     },
     "execution_count": 69,
     "metadata": {},
     "output_type": "execute_result"
    }
   ],
   "source": [
    "pd.crosstab(pd.Series(validation_test, name = 'Predicted'),\n",
    "           pd.Series(y_validate, name='Actual'))"
   ]
  },
  {
   "cell_type": "code",
   "execution_count": 70,
   "id": "played-wiring",
   "metadata": {},
   "outputs": [
    {
     "data": {
      "text/html": [
       "<div>\n",
       "<style scoped>\n",
       "    .dataframe tbody tr th:only-of-type {\n",
       "        vertical-align: middle;\n",
       "    }\n",
       "\n",
       "    .dataframe tbody tr th {\n",
       "        vertical-align: top;\n",
       "    }\n",
       "\n",
       "    .dataframe thead th {\n",
       "        text-align: right;\n",
       "    }\n",
       "</style>\n",
       "<table border=\"1\" class=\"dataframe\">\n",
       "  <thead>\n",
       "    <tr style=\"text-align: right;\">\n",
       "      <th>Actual</th>\n",
       "      <th>0</th>\n",
       "      <th>1</th>\n",
       "    </tr>\n",
       "    <tr>\n",
       "      <th>Predicted</th>\n",
       "      <th></th>\n",
       "      <th></th>\n",
       "    </tr>\n",
       "  </thead>\n",
       "  <tbody>\n",
       "    <tr>\n",
       "      <th>0</th>\n",
       "      <td>2391</td>\n",
       "      <td>54</td>\n",
       "    </tr>\n",
       "    <tr>\n",
       "      <th>1</th>\n",
       "      <td>90</td>\n",
       "      <td>280</td>\n",
       "    </tr>\n",
       "  </tbody>\n",
       "</table>\n",
       "</div>"
      ],
      "text/plain": [
       "Actual        0    1\n",
       "Predicted           \n",
       "0          2391   54\n",
       "1            90  280"
      ]
     },
     "execution_count": 70,
     "metadata": {},
     "output_type": "execute_result"
    }
   ],
   "source": [
    "pd.crosstab(pd.Series(y_test_pred, name = 'Predicted'),\n",
    "           pd.Series(y_test, name='Actual'))"
   ]
  },
  {
   "cell_type": "code",
   "execution_count": 71,
   "id": "prepared-terry",
   "metadata": {},
   "outputs": [
    {
     "name": "stdout",
     "output_type": "stream",
     "text": [
      "              precision    recall  f1-score   support\n",
      "\n",
      "           0       0.98      0.96      0.97      2481\n",
      "           1       0.76      0.84      0.80       334\n",
      "\n",
      "    accuracy                           0.95      2815\n",
      "   macro avg       0.87      0.90      0.88      2815\n",
      "weighted avg       0.95      0.95      0.95      2815\n",
      "\n"
     ]
    }
   ],
   "source": [
    "print(classification_report(y_test,y_test_pred))"
   ]
  },
  {
   "cell_type": "code",
   "execution_count": 72,
   "id": "considered-playlist",
   "metadata": {},
   "outputs": [
    {
     "name": "stdout",
     "output_type": "stream",
     "text": [
      "              precision    recall  f1-score   support\n",
      "\n",
      "           0       0.98      0.96      0.97      1114\n",
      "           1       0.72      0.87      0.79       137\n",
      "\n",
      "    accuracy                           0.95      1251\n",
      "   macro avg       0.85      0.91      0.88      1251\n",
      "weighted avg       0.95      0.95      0.95      1251\n",
      "\n"
     ]
    }
   ],
   "source": [
    "print(classification_report(y_validate,validation_test))"
   ]
  },
  {
   "cell_type": "code",
   "execution_count": 73,
   "id": "ethical-brand",
   "metadata": {},
   "outputs": [
    {
     "name": "stdout",
     "output_type": "stream",
     "text": [
      "Feature: y max, Score: 0.15159\n",
      "Feature: rms max, Score: 0.12713\n",
      "Feature: spec_contrast max, Score: 0.11516\n",
      "Feature: rolloff max, Score: 0.13249\n",
      "Feature: poly_0 max, Score: 0.13106\n",
      "Feature: poly_1 max, Score: 0.08942\n",
      "Feature: rms std, Score: 0.10088\n",
      "Feature: poly_0 std, Score: 0.15228\n"
     ]
    },
    {
     "data": {
      "image/png": "[encoded data removed]",
      "text/plain": [
       "<Figure size 432x288 with 1 Axes>"
      ]
     },
     "metadata": {
      "needs_background": "light"
     },
     "output_type": "display_data"
    }
   ],
   "source": [
    "from matplotlib import pyplot\n",
    "importance = rf.feature_importances_\n",
    "for i,v in enumerate(importance):\n",
    "    if v > 0.022:\n",
    "        print(f'Feature: {test3.columns[i]}, Score: {v:.5f}')\n",
    "        #print(df1.columns[i])\n",
    "# plot feature importance\n",
    "pyplot.bar([x for x in range(len(importance))], importance)\n",
    "pyplot.show()"
   ]
  },
  {
   "cell_type": "code",
   "execution_count": null,
   "id": "registered-mountain",
   "metadata": {},
   "outputs": [],
   "source": [
    " y max,\n",
    "Feature: rms max,\n",
    "Feature: spec_contrast max, Score: 0.11516\n",
    "Feature: rolloff max, Score: 0.13249\n",
    "Feature: poly_0 max, Score: 0.13106\n",
    "Feature: poly_1 max, Score: 0.08942\n",
    "Feature: rms std, Score: 0.10088\n",
    "Feature: poly_0 std"
   ]
  },
  {
   "cell_type": "code",
   "execution_count": 77,
   "id": "beneficial-campus",
   "metadata": {},
   "outputs": [
    {
     "data": {
      "text/plain": [
       "0.9367493995196157"
      ]
     },
     "execution_count": 77,
     "metadata": {},
     "output_type": "execute_result"
    }
   ],
   "source": [
    "test4 = df[['chroma_stft mean', 'chroma_cqt mean', 'melspectogram mean',  'rms mean', 'poly_0 mean',\n",
    "            'poly_1 mean', 'poly_2 mean', 'tonnetz mean']]\n",
    "X = test4.values\n",
    "y = df['Status'].values\n",
    "X_model, X_validate, y_model, y_validate = train_test_split(X,y,test_size=0.1,random_state = 40)\n",
    "X_train, X_test, y_train, y_test = train_test_split(X_model,y_model,test_size=0.25,random_state = 40)\n",
    "\n",
    "rf = RandomForestClassifier(n_estimators=40)\n",
    "rf.fit(X_train, y_train)\n",
    "rf.score(X_test, y_test)"
   ]
  },
  {
   "cell_type": "code",
   "execution_count": 80,
   "id": "protected-region",
   "metadata": {},
   "outputs": [],
   "source": [
    "sm = SMOTE(random_state=12)\n",
    "X_train_res, y_train_res = sm.fit_resample(X_train, y_train)"
   ]
  },
  {
   "cell_type": "code",
   "execution_count": 81,
   "id": "conceptual-aruba",
   "metadata": {},
   "outputs": [
    {
     "data": {
      "text/plain": [
       "0.9322124366159594"
      ]
     },
     "execution_count": 81,
     "metadata": {},
     "output_type": "execute_result"
    }
   ],
   "source": [
    "rf = RandomForestClassifier(n_estimators=40)\n",
    "rf.fit(X_train_res, y_train_res)\n",
    "rf.score(X_test, y_test)"
   ]
  },
  {
   "cell_type": "code",
   "execution_count": null,
   "id": "pacific-sauce",
   "metadata": {},
   "outputs": [],
   "source": [
    "rf = RandomForestClassifier(n_estimators=40)\n",
    "rf.fit(X_train_res, y_train_res)\n",
    "rf.score(X_test, y_test)\n",
    "\n",
    "validation_test = rf.predict(X_validate)\n",
    "pd.crosstab(pd.Series(validation_test, name = 'Predicted'),\n",
    "           pd.Series(y_validate, name='Actual'))\n",
    "\n",
    "y_test_pred = rf.predict(X_test)\n",
    "pd.crosstab(pd.Series(y_test_pred, name = 'Predicted'),\n",
    "           pd.Series(y_test, name='Actual'))\n",
    "\n",
    "print(classification_report(y_validate,validation_test))\n",
    "print(classification_report(y_test,y_test_pred))"
   ]
  },
  {
   "cell_type": "code",
   "execution_count": 82,
   "id": "equipped-internship",
   "metadata": {},
   "outputs": [],
   "source": [
    "validation_test = rf.predict(X_validate)"
   ]
  },
  {
   "cell_type": "code",
   "execution_count": 83,
   "id": "first-armenia",
   "metadata": {
    "collapsed": true
   },
   "outputs": [
    {
     "data": {
      "text/html": [
       "<div>\n",
       "<style scoped>\n",
       "    .dataframe tbody tr th:only-of-type {\n",
       "        vertical-align: middle;\n",
       "    }\n",
       "\n",
       "    .dataframe tbody tr th {\n",
       "        vertical-align: top;\n",
       "    }\n",
       "\n",
       "    .dataframe thead th {\n",
       "        text-align: right;\n",
       "    }\n",
       "</style>\n",
       "<table border=\"1\" class=\"dataframe\">\n",
       "  <thead>\n",
       "    <tr style=\"text-align: right;\">\n",
       "      <th>Actual</th>\n",
       "      <th>0</th>\n",
       "      <th>1</th>\n",
       "    </tr>\n",
       "    <tr>\n",
       "      <th>Predicted</th>\n",
       "      <th></th>\n",
       "      <th></th>\n",
       "    </tr>\n",
       "  </thead>\n",
       "  <tbody>\n",
       "    <tr>\n",
       "      <th>0</th>\n",
       "      <td>1160</td>\n",
       "      <td>53</td>\n",
       "    </tr>\n",
       "    <tr>\n",
       "      <th>1</th>\n",
       "      <td>73</td>\n",
       "      <td>379</td>\n",
       "    </tr>\n",
       "  </tbody>\n",
       "</table>\n",
       "</div>"
      ],
      "text/plain": [
       "Actual        0    1\n",
       "Predicted           \n",
       "0          1160   53\n",
       "1            73  379"
      ]
     },
     "execution_count": 83,
     "metadata": {},
     "output_type": "execute_result"
    }
   ],
   "source": [
    "pd.crosstab(pd.Series(validation_test, name = 'Predicted'),\n",
    "           pd.Series(y_validate, name='Actual'))"
   ]
  },
  {
   "cell_type": "code",
   "execution_count": 84,
   "id": "remarkable-sunday",
   "metadata": {
    "collapsed": true
   },
   "outputs": [
    {
     "data": {
      "text/html": [
       "<div>\n",
       "<style scoped>\n",
       "    .dataframe tbody tr th:only-of-type {\n",
       "        vertical-align: middle;\n",
       "    }\n",
       "\n",
       "    .dataframe tbody tr th {\n",
       "        vertical-align: top;\n",
       "    }\n",
       "\n",
       "    .dataframe thead th {\n",
       "        text-align: right;\n",
       "    }\n",
       "</style>\n",
       "<table border=\"1\" class=\"dataframe\">\n",
       "  <thead>\n",
       "    <tr style=\"text-align: right;\">\n",
       "      <th>Actual</th>\n",
       "      <th>0</th>\n",
       "      <th>1</th>\n",
       "    </tr>\n",
       "    <tr>\n",
       "      <th>Predicted</th>\n",
       "      <th></th>\n",
       "      <th></th>\n",
       "    </tr>\n",
       "  </thead>\n",
       "  <tbody>\n",
       "    <tr>\n",
       "      <th>0</th>\n",
       "      <td>2617</td>\n",
       "      <td>120</td>\n",
       "    </tr>\n",
       "    <tr>\n",
       "      <th>1</th>\n",
       "      <td>134</td>\n",
       "      <td>876</td>\n",
       "    </tr>\n",
       "  </tbody>\n",
       "</table>\n",
       "</div>"
      ],
      "text/plain": [
       "Actual        0    1\n",
       "Predicted           \n",
       "0          2617  120\n",
       "1           134  876"
      ]
     },
     "execution_count": 84,
     "metadata": {},
     "output_type": "execute_result"
    }
   ],
   "source": [
    "y_test_pred = rf.predict(X_test)\n",
    "pd.crosstab(pd.Series(y_test_pred, name = 'Predicted'),\n",
    "           pd.Series(y_test, name='Actual'))"
   ]
  },
  {
   "cell_type": "code",
   "execution_count": 85,
   "id": "meaning-dance",
   "metadata": {},
   "outputs": [
    {
     "name": "stdout",
     "output_type": "stream",
     "text": [
      "              precision    recall  f1-score   support\n",
      "\n",
      "           0       0.96      0.94      0.95      1233\n",
      "           1       0.84      0.88      0.86       432\n",
      "\n",
      "    accuracy                           0.92      1665\n",
      "   macro avg       0.90      0.91      0.90      1665\n",
      "weighted avg       0.93      0.92      0.92      1665\n",
      "\n"
     ]
    }
   ],
   "source": [
    "print(classification_report(y_validate,validation_test))"
   ]
  },
  {
   "cell_type": "code",
   "execution_count": 86,
   "id": "looking-transcript",
   "metadata": {},
   "outputs": [
    {
     "name": "stdout",
     "output_type": "stream",
     "text": [
      "              precision    recall  f1-score   support\n",
      "\n",
      "           0       0.96      0.95      0.95      2751\n",
      "           1       0.87      0.88      0.87       996\n",
      "\n",
      "    accuracy                           0.93      3747\n",
      "   macro avg       0.91      0.92      0.91      3747\n",
      "weighted avg       0.93      0.93      0.93      3747\n",
      "\n"
     ]
    }
   ],
   "source": [
    "print(classification_report(y_test,y_test_pred))"
   ]
  },
  {
   "cell_type": "code",
   "execution_count": 88,
   "id": "successful-above",
   "metadata": {},
   "outputs": [
    {
     "name": "stdout",
     "output_type": "stream",
     "text": [
      "Feature: chroma_stft mean, Score: 0.15094\n",
      "Feature: melspectogram mean, Score: 0.09972\n",
      "Feature: mfcc mean, Score: 0.13189\n",
      "Feature: rms mean, Score: 0.13804\n",
      "Feature: rolloff min, Score: 0.11952\n",
      "Feature: poly_0 mean, Score: 0.12358\n",
      "Feature: poly_1 mean, Score: 0.11934\n",
      "Feature: poly_2 mean, Score: 0.11696\n"
     ]
    },
    {
     "data": {
      "image/png": "[encoded data removed]",
      "text/plain": [
       "<Figure size 432x288 with 1 Axes>"
      ]
     },
     "metadata": {
      "needs_background": "light"
     },
     "output_type": "display_data"
    }
   ],
   "source": [
    "from matplotlib import pyplot\n",
    "importance = rf.feature_importances_\n",
    "for i,v in enumerate(importance):\n",
    "    if v > 0.022:\n",
    "        print(f'Feature: {test3.columns[i]}, Score: {v:.5f}')\n",
    "        #print(df1.columns[i])\n",
    "# plot feature importance\n",
    "pyplot.bar([x for x in range(len(importance))], importance)\n",
    "pyplot.show()"
   ]
  }
 ],
 "metadata": {
  "kernelspec": {
   "display_name": "Python 3",
   "language": "python",
   "name": "python3"
  },
  "language_info": {
   "codemirror_mode": {
    "name": "ipython",
    "version": 3
   },
   "file_extension": ".py",
   "mimetype": "text/x-python",
   "name": "python",
   "nbconvert_exporter": "python",
   "pygments_lexer": "ipython3",
   "version": "3.9.2"
  }
 },
 "nbformat": 4,
 "nbformat_minor": 5
}
