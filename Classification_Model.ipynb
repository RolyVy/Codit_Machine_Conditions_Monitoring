{
 "cells": [
  {
   "cell_type": "markdown",
   "id": "infrared-census",
   "metadata": {},
   "source": [
    "# Machine Learning: Classification Model"
   ]
  },
  {
   "cell_type": "markdown",
   "id": "brief-consideration",
   "metadata": {},
   "source": [
    "Now, we have are done with the preprocessing, it is time to create the model."
   ]
  },
  {
   "cell_type": "markdown",
   "id": "freelance-jumping",
   "metadata": {},
   "source": [
    "To do that, we have to get the data first."
   ]
  },
  {
   "cell_type": "code",
   "execution_count": 6,
   "id": "toxic-arrangement",
   "metadata": {},
   "outputs": [],
   "source": [
    "import numpy as np\n",
    "import pandas as pd\n",
    "import matplotlib.pyplot as plt\n",
    "from sklearn.model_selection import train_test_split"
   ]
  },
  {
   "cell_type": "code",
   "execution_count": 2,
   "id": "described-latin",
   "metadata": {},
   "outputs": [],
   "source": [
    "df = pd.read_csv('datasets/scratch/fan6db-with-features.csv') "
   ]
  },
  {
   "cell_type": "code",
   "execution_count": 14,
   "id": "adolescent-alignment",
   "metadata": {},
   "outputs": [
    {
     "data": {
      "text/plain": [
       "Index(['Target', 'Type of Machine', 'Sound', 'File Path', 'Type of SNR',\n",
       "       'Model Number', 'SR', 'y mean', 'y max', 'y min', 'chroma_stft min',\n",
       "       'chroma_stft mean', 'chroma_stft max', 'chroma_cqt min',\n",
       "       'chroma_cqt mean', 'chroma_cqt max', 'chroma_cens min',\n",
       "       'chroma_cens mean', 'chroma_cens max', 'melspectogram min',\n",
       "       'melspectogram mean', 'melspectogram max', 'mfcc min', 'mfcc mean',\n",
       "       'mfcc max', 'rms min', 'rms mean', 'rms max', 'spectral_centroid min',\n",
       "       'spectral_centroid mean', 'spectral_centroid max', 'spec_bw min',\n",
       "       'spec_bw mean', 'spec_bw max', 'spec_contrast min',\n",
       "       'spec_contrast mean', 'spec_contrast max', 'flatness min',\n",
       "       'flatness mean', 'flatness max', 'rolloff min', 'rolloff mean',\n",
       "       'rolloff max', 'poly_0 min', 'poly_0 mean', 'poly_0 max', 'poly_1 min',\n",
       "       'poly_1 mean', 'poly_1 max', 'poly_2 min', 'poly_2 mean', 'poly_2 max',\n",
       "       'tonnetz min', 'tonnetz mean', 'tonnetz max', 'zero_crossing_rate min',\n",
       "       'zero_crossing_rate mean', 'zero_crossing_rate max'],\n",
       "      dtype='object')"
      ]
     },
     "execution_count": 14,
     "metadata": {},
     "output_type": "execute_result"
    }
   ],
   "source": [
    "df.columns"
   ]
  },
  {
   "cell_type": "code",
   "execution_count": 15,
   "id": "soviet-pollution",
   "metadata": {},
   "outputs": [],
   "source": [
    "x = df[['y mean', 'y max', 'y min', 'chroma_stft min',\n",
    "       'chroma_stft mean', 'chroma_stft max', 'chroma_cqt min',\n",
    "       'chroma_cqt mean', 'chroma_cqt max', 'chroma_cens min',\n",
    "       'chroma_cens mean', 'chroma_cens max', 'melspectogram min',\n",
    "       'melspectogram mean', 'melspectogram max', 'mfcc min', 'mfcc mean',\n",
    "       'mfcc max', 'rms min', 'rms mean', 'rms max', 'spectral_centroid min',\n",
    "       'spectral_centroid mean', 'spectral_centroid max', 'spec_bw min',\n",
    "       'spec_bw mean', 'spec_bw max', 'spec_contrast min',\n",
    "       'spec_contrast mean', 'spec_contrast max', 'flatness min',\n",
    "       'flatness mean', 'flatness max', 'rolloff min', 'rolloff mean',\n",
    "       'rolloff max', 'poly_0 min', 'poly_0 mean', 'poly_0 max', 'poly_1 min',\n",
    "       'poly_1 mean', 'poly_1 max', 'poly_2 min', 'poly_2 mean', 'poly_2 max',\n",
    "       'tonnetz min', 'tonnetz mean', 'tonnetz max', 'zero_crossing_rate min',\n",
    "       'zero_crossing_rate mean', 'zero_crossing_rate max']].copy()"
   ]
  },
  {
   "cell_type": "code",
   "execution_count": 16,
   "id": "genuine-permit",
   "metadata": {},
   "outputs": [],
   "source": [
    "y = df['Target'].replace({ 'Abnormal': 1, 'Normal': 0}, inplace=True)"
   ]
  },
  {
   "cell_type": "code",
   "execution_count": 19,
   "id": "considerable-stranger",
   "metadata": {},
   "outputs": [
    {
     "data": {
      "text/plain": [
       "((1416, 51), (1416,))"
      ]
     },
     "execution_count": 19,
     "metadata": {},
     "output_type": "execute_result"
    }
   ],
   "source": [
    "X = x.values\n",
    "y = y\n",
    "X.shape, y.shape"
   ]
  },
  {
   "cell_type": "code",
   "execution_count": 20,
   "id": "sapphire-covering",
   "metadata": {},
   "outputs": [],
   "source": [
    "X_train, X_test, y_train, y_test = train_test_split(X,y,test_size=0.25,random_state = 100)"
   ]
  },
  {
   "cell_type": "code",
   "execution_count": 21,
   "id": "thorough-smoke",
   "metadata": {},
   "outputs": [
    {
     "data": {
      "text/plain": [
       "RandomForestClassifier()"
      ]
     },
     "execution_count": 21,
     "metadata": {},
     "output_type": "execute_result"
    }
   ],
   "source": [
    "# Use Random Forest Classifier\n",
    "from sklearn.ensemble import RandomForestClassifier\n",
    "model = RandomForestClassifier()\n",
    "\n",
    "# Train the model\n",
    "model.fit(X_train, y_train.ravel())"
   ]
  },
  {
   "cell_type": "code",
   "execution_count": 22,
   "id": "broadband-wayne",
   "metadata": {},
   "outputs": [
    {
     "data": {
      "text/plain": [
       "0.980225988700565"
      ]
     },
     "execution_count": 22,
     "metadata": {},
     "output_type": "execute_result"
    }
   ],
   "source": [
    "model.score(X_test, y_test)"
   ]
  },
  {
   "cell_type": "code",
   "execution_count": 23,
   "id": "expressed-cannon",
   "metadata": {},
   "outputs": [],
   "source": [
    "y_pred = model.predict(X_test)"
   ]
  },
  {
   "cell_type": "code",
   "execution_count": 24,
   "id": "conceptual-hungarian",
   "metadata": {},
   "outputs": [
    {
     "name": "stdout",
     "output_type": "stream",
     "text": [
      "              precision    recall  f1-score   support\n",
      "\n",
      "           0       0.99      0.98      0.99       251\n",
      "           1       0.96      0.97      0.97       103\n",
      "\n",
      "    accuracy                           0.98       354\n",
      "   macro avg       0.97      0.98      0.98       354\n",
      "weighted avg       0.98      0.98      0.98       354\n",
      "\n"
     ]
    }
   ],
   "source": [
    "# Train your model\n",
    "from sklearn.metrics import classification_report\n",
    "\n",
    "print(classification_report(y_test,y_pred))"
   ]
  },
  {
   "cell_type": "code",
   "execution_count": 27,
   "id": "adverse-tomato",
   "metadata": {},
   "outputs": [
    {
     "data": {
      "text/plain": [
       "0.88"
      ]
     },
     "execution_count": 27,
     "metadata": {},
     "output_type": "execute_result"
    }
   ],
   "source": [
    "from sklearn.svm import SVC\n",
    "from sklearn.preprocessing import StandardScaler\n",
    "from sklearn.datasets import make_classification\n",
    "from sklearn.model_selection import train_test_split\n",
    "from sklearn.pipeline import Pipeline\n",
    "X, y = make_classification(random_state=0)\n",
    "X_train, X_test, y_train, y_test = train_test_split(X, y, random_state=0)\n",
    "pipe = Pipeline([('scaler', StandardScaler()), ('svc', SVC())])\n",
    "# The pipeline can be used as any other estimator\n",
    "# and avoids leaking the test set into the train set\n",
    "pipe.fit(X_train, y_train)\n",
    "Pipeline(steps=[('scaler', StandardScaler()), ('svc', SVC())])\n",
    "pipe.score(X_test, y_test)"
   ]
  },
  {
   "cell_type": "markdown",
   "id": "environmental-birmingham",
   "metadata": {},
   "source": [
    "### TRYING OUT WITH ONLY THE MEAN VALUES"
   ]
  },
  {
   "cell_type": "code",
   "execution_count": 28,
   "id": "exposed-parallel",
   "metadata": {},
   "outputs": [],
   "source": [
    "x = df[['y mean', 'chroma_stft mean','chroma_cqt mean','chroma_cens mean', 'melspectogram mean', 'mfcc mean', 'rms mean',\n",
    "        'spectral_centroid mean','spec_bw mean','spec_contrast mean','flatness mean', 'rolloff mean', 'poly_0 mean', \n",
    "        'poly_1 mean', 'poly_2 mean', 'tonnetz mean', 'zero_crossing_rate mean']].copy()"
   ]
  },
  {
   "cell_type": "code",
   "execution_count": 37,
   "id": "dutch-christian",
   "metadata": {},
   "outputs": [
    {
     "data": {
      "text/plain": [
       "((1416, 17), (1416,))"
      ]
     },
     "execution_count": 37,
     "metadata": {},
     "output_type": "execute_result"
    }
   ],
   "source": [
    "X = x.values\n",
    "y = df['Target'].values\n",
    "X.shape, y.shape"
   ]
  },
  {
   "cell_type": "code",
   "execution_count": 38,
   "id": "republican-louisville",
   "metadata": {},
   "outputs": [],
   "source": [
    "X_train, X_test, y_train, y_test = train_test_split(X,y,test_size=0.25,random_state = 100)"
   ]
  },
  {
   "cell_type": "code",
   "execution_count": 39,
   "id": "japanese-norway",
   "metadata": {},
   "outputs": [
    {
     "data": {
      "text/plain": [
       "RandomForestClassifier()"
      ]
     },
     "execution_count": 39,
     "metadata": {},
     "output_type": "execute_result"
    }
   ],
   "source": [
    "# Use Random Forest Classifier\n",
    "from sklearn.ensemble import RandomForestClassifier\n",
    "model = RandomForestClassifier()\n",
    "\n",
    "# Train the model\n",
    "model.fit(X_train, y_train.ravel())"
   ]
  },
  {
   "cell_type": "code",
   "execution_count": 40,
   "id": "preceding-statistics",
   "metadata": {},
   "outputs": [
    {
     "data": {
      "text/plain": [
       "0.980225988700565"
      ]
     },
     "execution_count": 40,
     "metadata": {},
     "output_type": "execute_result"
    }
   ],
   "source": [
    "model.score(X_test, y_test)"
   ]
  },
  {
   "cell_type": "code",
   "execution_count": 42,
   "id": "secondary-shelf",
   "metadata": {},
   "outputs": [],
   "source": [
    "df = pd.read_csv('datasets/valve_6db_features.csv')"
   ]
  },
  {
   "cell_type": "code",
   "execution_count": 43,
   "id": "blank-flower",
   "metadata": {},
   "outputs": [],
   "source": [
    "x = df[['y mean', 'y max', 'y min', 'chroma_stft min',\n",
    "       'chroma_stft mean', 'chroma_stft max', 'chroma_cqt min',\n",
    "       'chroma_cqt mean', 'chroma_cqt max', 'chroma_cens min',\n",
    "       'chroma_cens mean', 'chroma_cens max', 'melspectogram min',\n",
    "       'melspectogram mean', 'melspectogram max', 'mfcc min', 'mfcc mean',\n",
    "       'mfcc max', 'rms min', 'rms mean', 'rms max', 'spectral_centroid min',\n",
    "       'spectral_centroid mean', 'spectral_centroid max', 'spec_bw min',\n",
    "       'spec_bw mean', 'spec_bw max', 'spec_contrast min',\n",
    "       'spec_contrast mean', 'spec_contrast max', 'flatness min',\n",
    "       'flatness mean', 'flatness max', 'rolloff min', 'rolloff mean',\n",
    "       'rolloff max', 'poly_0 min', 'poly_0 mean', 'poly_0 max', 'poly_1 min',\n",
    "       'poly_1 mean', 'poly_1 max', 'poly_2 min', 'poly_2 mean', 'poly_2 max',\n",
    "       'tonnetz min', 'tonnetz mean', 'tonnetz max', 'zero_crossing_rate min',\n",
    "       'zero_crossing_rate mean', 'zero_crossing_rate max']].copy()"
   ]
  },
  {
   "cell_type": "code",
   "execution_count": 50,
   "id": "suspended-medicine",
   "metadata": {},
   "outputs": [
    {
     "data": {
      "text/plain": [
       "0       1\n",
       "1       1\n",
       "2       1\n",
       "3       1\n",
       "4       1\n",
       "       ..\n",
       "4165    0\n",
       "4166    0\n",
       "4167    0\n",
       "4168    0\n",
       "4169    0\n",
       "Name: Status, Length: 4170, dtype: int64"
      ]
     },
     "execution_count": 50,
     "metadata": {},
     "output_type": "execute_result"
    }
   ],
   "source": [
    "df['Status'].replace({ 'abnormal': 1, 'normal': 0}, inplace=True)\n",
    "df['Status']"
   ]
  },
  {
   "cell_type": "code",
   "execution_count": 51,
   "id": "metropolitan-disclaimer",
   "metadata": {},
   "outputs": [
    {
     "data": {
      "text/plain": [
       "((4170, 51), (4170,))"
      ]
     },
     "execution_count": 51,
     "metadata": {},
     "output_type": "execute_result"
    }
   ],
   "source": [
    "X = x.values\n",
    "y = df['Status'].values\n",
    "X.shape, y.shape"
   ]
  },
  {
   "cell_type": "code",
   "execution_count": 52,
   "id": "sealed-international",
   "metadata": {},
   "outputs": [],
   "source": [
    "X_train, X_test, y_train, y_test = train_test_split(X,y,test_size=0.25,random_state = 100)"
   ]
  },
  {
   "cell_type": "code",
   "execution_count": 53,
   "id": "shaped-liquid",
   "metadata": {},
   "outputs": [
    {
     "data": {
      "text/plain": [
       "RandomForestClassifier()"
      ]
     },
     "execution_count": 53,
     "metadata": {},
     "output_type": "execute_result"
    }
   ],
   "source": [
    "# Use Random Forest Classifier\n",
    "from sklearn.ensemble import RandomForestClassifier\n",
    "model = RandomForestClassifier()\n",
    "\n",
    "# Train the model\n",
    "model.fit(X_train, y_train.ravel())"
   ]
  },
  {
   "cell_type": "code",
   "execution_count": 57,
   "id": "flush-matter",
   "metadata": {},
   "outputs": [
    {
     "data": {
      "text/plain": [
       "0.975071907957814"
      ]
     },
     "execution_count": 57,
     "metadata": {},
     "output_type": "execute_result"
    }
   ],
   "source": [
    "model.score(X_test, y_test)"
   ]
  },
  {
   "cell_type": "code",
   "execution_count": 58,
   "id": "extra-registration",
   "metadata": {},
   "outputs": [
    {
     "name": "stdout",
     "output_type": "stream",
     "text": [
      "              precision    recall  f1-score   support\n",
      "\n",
      "           0       0.97      1.00      0.99       932\n",
      "           1       0.99      0.77      0.87       111\n",
      "\n",
      "    accuracy                           0.98      1043\n",
      "   macro avg       0.98      0.89      0.93      1043\n",
      "weighted avg       0.98      0.98      0.97      1043\n",
      "\n"
     ]
    }
   ],
   "source": [
    "y_pred = model.predict(X_test)\n",
    "print(classification_report(y_test,y_pred))"
   ]
  },
  {
   "cell_type": "code",
   "execution_count": 59,
   "id": "polish-giant",
   "metadata": {},
   "outputs": [],
   "source": [
    "x = df[['y mean', 'chroma_stft mean','chroma_cqt mean','chroma_cens mean', 'melspectogram mean', 'mfcc mean', 'rms mean',\n",
    "        'spectral_centroid mean','spec_bw mean','spec_contrast mean','flatness mean', 'rolloff mean', 'poly_0 mean', \n",
    "        'poly_1 mean', 'poly_2 mean', 'tonnetz mean', 'zero_crossing_rate mean']].copy()"
   ]
  },
  {
   "cell_type": "code",
   "execution_count": 61,
   "id": "existing-cream",
   "metadata": {},
   "outputs": [
    {
     "data": {
      "text/plain": [
       "((4170, 17), (4170,))"
      ]
     },
     "execution_count": 61,
     "metadata": {},
     "output_type": "execute_result"
    }
   ],
   "source": [
    "X = x.values\n",
    "y = df['Status'].values\n",
    "X.shape, y.shape"
   ]
  },
  {
   "cell_type": "code",
   "execution_count": 85,
   "id": "talented-flour",
   "metadata": {},
   "outputs": [],
   "source": [
    "X_train, X_test, y_train, y_test = train_test_split(X,y,test_size=0.25,random_state = 100)"
   ]
  },
  {
   "cell_type": "code",
   "execution_count": 86,
   "id": "fewer-pleasure",
   "metadata": {},
   "outputs": [
    {
     "data": {
      "text/plain": [
       "RandomForestClassifier()"
      ]
     },
     "execution_count": 86,
     "metadata": {},
     "output_type": "execute_result"
    }
   ],
   "source": [
    "# Use Random Forest Classifier\n",
    "from sklearn.ensemble import RandomForestClassifier\n",
    "model = RandomForestClassifier()\n",
    "\n",
    "# Train the model\n",
    "model.fit(X_train, y_train.ravel())"
   ]
  },
  {
   "cell_type": "code",
   "execution_count": 87,
   "id": "pursuant-phase",
   "metadata": {},
   "outputs": [
    {
     "data": {
      "text/plain": [
       "0.9271332694151486"
      ]
     },
     "execution_count": 87,
     "metadata": {},
     "output_type": "execute_result"
    }
   ],
   "source": [
    "model.score(X_test, y_test)"
   ]
  },
  {
   "cell_type": "code",
   "execution_count": 88,
   "id": "offensive-consultancy",
   "metadata": {},
   "outputs": [
    {
     "name": "stdout",
     "output_type": "stream",
     "text": [
      "              precision    recall  f1-score   support\n",
      "\n",
      "           0       0.92      1.00      0.96       932\n",
      "           1       1.00      0.32      0.48       111\n",
      "\n",
      "    accuracy                           0.93      1043\n",
      "   macro avg       0.96      0.66      0.72      1043\n",
      "weighted avg       0.93      0.93      0.91      1043\n",
      "\n"
     ]
    }
   ],
   "source": [
    "y_pred = model.predict(X_test)\n",
    "print(classification_report(y_test,y_pred))"
   ]
  },
  {
   "cell_type": "code",
   "execution_count": null,
   "id": "unsigned-rating",
   "metadata": {},
   "outputs": [],
   "source": []
  }
 ],
 "metadata": {
  "kernelspec": {
   "display_name": "Python 3",
   "language": "python",
   "name": "python3"
  },
  "language_info": {
   "codemirror_mode": {
    "name": "ipython",
    "version": 3
   },
   "file_extension": ".py",
   "mimetype": "text/x-python",
   "name": "python",
   "nbconvert_exporter": "python",
   "pygments_lexer": "ipython3",
   "version": "3.9.2"
  }
 },
 "nbformat": 4,
 "nbformat_minor": 5
}
